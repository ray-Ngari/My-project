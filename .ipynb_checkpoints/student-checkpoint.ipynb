{
 "cells": [
  {
   "cell_type": "markdown",
   "metadata": {},
   "source": [
    "## Final Project Submission\n",
    "\n",
    "\n",
    "* Student name: Rachael Nduta Ngari\n",
    "* Student pace: full time\n",
    "* Scheduled project review date/time: 3/28/2025\n",
    "* Instructor name: Diana Mongina\n",
    "\n"
   ]
  },
  {
   "cell_type": "markdown",
   "metadata": {},
   "source": [
    "## **Problem Statement**  \n",
    "\n",
    "The transportation industry, specifically the aviation industry, is not like most industries. Mistakes or accidents in aviation can result in **loss of life, property damage, severe injuries, and financial setbacks**. We must keep analyzing aviation data and making improvements because, despite advancements in technology and safety regulations, accidents still occur due to factors such as **pilot error, mechanical failures, and adverse weather conditions**. Additionally, some **regions, airlines, and regulatory environments** still have higher accident rates, raising concerns about the **effectiveness of existing safety measures**.  \n",
    "\n",
    "This project aims to **analyze historical aviation accident data** to identify **contributing factors, high-risk locations, and trends in accident frequency**, providing insights into potential **safety improvements**.  \n"
   ]
  },
  {
   "cell_type": "markdown",
   "metadata": {},
   "source": [
    "## **Overview**  \n",
    "\n",
    "The project **explores and analyzes an aviation dataset** to identify **key contributing factors for accidents, emerging trends, and high-risk locations**. By applying **statistical and data visualization techniques**, the project provides **stakeholders (such as airlines and regulatory bodies) with valuable insights** to **reduce accidents and improve protocols**.  \n"
   ]
  },
  {
   "cell_type": "markdown",
   "metadata": {},
   "source": [
    "## **Objectives**  \r\n",
    "\r\n",
    "- **Identify factors contributing to accidents** (*weather, mechanical failures, pilot errors*)  \r\n",
    "- **Identify high-risk locations** and **compare accident rates across countries** to assess the **regulatory effectiveness** of different regions  \r\n",
    "- **Check trends in accident frequency and fatalities over time** and analyze their **correlation with regulations**\r\n"
   ]
  },
  {
   "cell_type": "markdown",
   "metadata": {},
   "source": [
    "## **Solutions**  \n",
    "\n",
    "## **1. Exploratory Data Analysis (EDA) and Data Cleaning** \n",
    "Exploring essential variables and data structures, and standardize formats, address missing values and ensure data consistency.\n",
    "## **2. Data Visualizations**  \n",
    "- **Bar graphs** to analyze accident distributions by:  \n",
    "  - Aircraft type  \n",
    "  - Weather conditions  \n",
    "  - Number of engines  \n",
    "  - Broad phase of flight  \n",
    "- **Bar graphs** to identify **high-risk accident zones globally**.  \n",
    "- **Line graphs** to analyze **accident and fatality rates over time**.  \n",
    "\n",
    "## **3. Conclusion**  \n",
    "- Summarize findings on:  \n",
    "  - **Accident trends**  \n",
    "  - **High-risk areas**  \n",
    "  - **Contributing factors** actors**  \r\n",
    "\n",
    "\n"
   ]
  },
  {
   "cell_type": "markdown",
   "metadata": {},
   "source": [
    "## 1. Exploratory data Analysis (EDA) and Data cleaning"
   ]
  },
  {
   "cell_type": "markdown",
   "metadata": {},
   "source": [
    "The cell below imports all necessary libraries and loads the `Aviation Data` dataset as `df`."
   ]
  },
  {
   "cell_type": "code",
   "execution_count": 1,
   "metadata": {},
   "outputs": [],
   "source": [
    "import pandas as pd  \n",
    "import numpy as np  \n",
    "import matplotlib.pyplot as plt  \n",
    "import seaborn as sns  \n",
    "\n",
    "%matplotlib inline  \n",
    "df = pd.read_csv('Aviation_Data.csv', low_memory=False) "
   ]
  },
  {
   "cell_type": "markdown",
   "metadata": {},
   "source": [
    "**Getting the Gist of Our Data**\r\n",
    "\r\n",
    "\r\n",
    "Before diving into analysis, let's first get the **gist** of our datas\n",
    "t. We'll explore its struct, its data types, number of coloumns and rows, and the names of the columns.ure"
   ]
  },
  {
   "cell_type": "code",
   "execution_count": 2,
   "metadata": {},
   "outputs": [
    {
     "name": "stdout",
     "output_type": "stream",
     "text": [
      "<class 'pandas.core.frame.DataFrame'>\n",
      "RangeIndex: 90348 entries, 0 to 90347\n",
      "Data columns (total 31 columns):\n",
      " #   Column                  Non-Null Count  Dtype  \n",
      "---  ------                  --------------  -----  \n",
      " 0   Event.Id                88889 non-null  object \n",
      " 1   Investigation.Type      90348 non-null  object \n",
      " 2   Accident.Number         88889 non-null  object \n",
      " 3   Event.Date              88889 non-null  object \n",
      " 4   Location                88837 non-null  object \n",
      " 5   Country                 88663 non-null  object \n",
      " 6   Latitude                34382 non-null  object \n",
      " 7   Longitude               34373 non-null  object \n",
      " 8   Airport.Code            50132 non-null  object \n",
      " 9   Airport.Name            52704 non-null  object \n",
      " 10  Injury.Severity         87889 non-null  object \n",
      " 11  Aircraft.damage         85695 non-null  object \n",
      " 12  Aircraft.Category       32287 non-null  object \n",
      " 13  Registration.Number     87507 non-null  object \n",
      " 14  Make                    88826 non-null  object \n",
      " 15  Model                   88797 non-null  object \n",
      " 16  Amateur.Built           88787 non-null  object \n",
      " 17  Number.of.Engines       82805 non-null  float64\n",
      " 18  Engine.Type             81793 non-null  object \n",
      " 19  FAR.Description         32023 non-null  object \n",
      " 20  Schedule                12582 non-null  object \n",
      " 21  Purpose.of.flight       82697 non-null  object \n",
      " 22  Air.carrier             16648 non-null  object \n",
      " 23  Total.Fatal.Injuries    77488 non-null  float64\n",
      " 24  Total.Serious.Injuries  76379 non-null  float64\n",
      " 25  Total.Minor.Injuries    76956 non-null  float64\n",
      " 26  Total.Uninjured         82977 non-null  float64\n",
      " 27  Weather.Condition       84397 non-null  object \n",
      " 28  Broad.phase.of.flight   61724 non-null  object \n",
      " 29  Report.Status           82505 non-null  object \n",
      " 30  Publication.Date        73659 non-null  object \n",
      "dtypes: float64(5), object(26)\n",
      "memory usage: 21.4+ MB\n"
     ]
    }
   ],
   "source": [
    "df.info() "
   ]
  },
  {
   "cell_type": "code",
   "execution_count": 3,
   "metadata": {},
   "outputs": [
    {
     "data": {
      "text/plain": [
       "(90348, 31)"
      ]
     },
     "execution_count": 3,
     "metadata": {},
     "output_type": "execute_result"
    }
   ],
   "source": [
    "df.shape  "
   ]
  },
  {
   "cell_type": "markdown",
   "metadata": {},
   "source": [
    "There are **31 valuables** being investigated and **90,348 accidents**, this is without removing duplicates.\r\n"
   ]
  },
  {
   "cell_type": "code",
   "execution_count": 4,
   "metadata": {},
   "outputs": [
    {
     "data": {
      "text/plain": [
       "Index(['Event.Id', 'Investigation.Type', 'Accident.Number', 'Event.Date',\n",
       "       'Location', 'Country', 'Latitude', 'Longitude', 'Airport.Code',\n",
       "       'Airport.Name', 'Injury.Severity', 'Aircraft.damage',\n",
       "       'Aircraft.Category', 'Registration.Number', 'Make', 'Model',\n",
       "       'Amateur.Built', 'Number.of.Engines', 'Engine.Type', 'FAR.Description',\n",
       "       'Schedule', 'Purpose.of.flight', 'Air.carrier', 'Total.Fatal.Injuries',\n",
       "       'Total.Serious.Injuries', 'Total.Minor.Injuries', 'Total.Uninjured',\n",
       "       'Weather.Condition', 'Broad.phase.of.flight', 'Report.Status',\n",
       "       'Publication.Date'],\n",
       "      dtype='object')"
      ]
     },
     "execution_count": 4,
     "metadata": {},
     "output_type": "execute_result"
    }
   ],
   "source": [
    "df.columns"
   ]
  },
  {
   "cell_type": "code",
   "execution_count": 5,
   "metadata": {},
   "outputs": [
    {
     "data": {
      "text/html": [
       "<div>\n",
       "<style scoped>\n",
       "    .dataframe tbody tr th:only-of-type {\n",
       "        vertical-align: middle;\n",
       "    }\n",
       "\n",
       "    .dataframe tbody tr th {\n",
       "        vertical-align: top;\n",
       "    }\n",
       "\n",
       "    .dataframe thead th {\n",
       "        text-align: right;\n",
       "    }\n",
       "</style>\n",
       "<table border=\"1\" class=\"dataframe\">\n",
       "  <thead>\n",
       "    <tr style=\"text-align: right;\">\n",
       "      <th></th>\n",
       "      <th>Number.of.Engines</th>\n",
       "      <th>Total.Fatal.Injuries</th>\n",
       "      <th>Total.Serious.Injuries</th>\n",
       "      <th>Total.Minor.Injuries</th>\n",
       "      <th>Total.Uninjured</th>\n",
       "    </tr>\n",
       "  </thead>\n",
       "  <tbody>\n",
       "    <tr>\n",
       "      <th>count</th>\n",
       "      <td>82805.000000</td>\n",
       "      <td>77488.000000</td>\n",
       "      <td>76379.000000</td>\n",
       "      <td>76956.000000</td>\n",
       "      <td>82977.000000</td>\n",
       "    </tr>\n",
       "    <tr>\n",
       "      <th>mean</th>\n",
       "      <td>1.146585</td>\n",
       "      <td>0.647855</td>\n",
       "      <td>0.279881</td>\n",
       "      <td>0.357061</td>\n",
       "      <td>5.325440</td>\n",
       "    </tr>\n",
       "    <tr>\n",
       "      <th>std</th>\n",
       "      <td>0.446510</td>\n",
       "      <td>5.485960</td>\n",
       "      <td>1.544084</td>\n",
       "      <td>2.235625</td>\n",
       "      <td>27.913634</td>\n",
       "    </tr>\n",
       "    <tr>\n",
       "      <th>min</th>\n",
       "      <td>0.000000</td>\n",
       "      <td>0.000000</td>\n",
       "      <td>0.000000</td>\n",
       "      <td>0.000000</td>\n",
       "      <td>0.000000</td>\n",
       "    </tr>\n",
       "    <tr>\n",
       "      <th>25%</th>\n",
       "      <td>1.000000</td>\n",
       "      <td>0.000000</td>\n",
       "      <td>0.000000</td>\n",
       "      <td>0.000000</td>\n",
       "      <td>0.000000</td>\n",
       "    </tr>\n",
       "    <tr>\n",
       "      <th>50%</th>\n",
       "      <td>1.000000</td>\n",
       "      <td>0.000000</td>\n",
       "      <td>0.000000</td>\n",
       "      <td>0.000000</td>\n",
       "      <td>1.000000</td>\n",
       "    </tr>\n",
       "    <tr>\n",
       "      <th>75%</th>\n",
       "      <td>1.000000</td>\n",
       "      <td>0.000000</td>\n",
       "      <td>0.000000</td>\n",
       "      <td>0.000000</td>\n",
       "      <td>2.000000</td>\n",
       "    </tr>\n",
       "    <tr>\n",
       "      <th>max</th>\n",
       "      <td>8.000000</td>\n",
       "      <td>349.000000</td>\n",
       "      <td>161.000000</td>\n",
       "      <td>380.000000</td>\n",
       "      <td>699.000000</td>\n",
       "    </tr>\n",
       "  </tbody>\n",
       "</table>\n",
       "</div>"
      ],
      "text/plain": [
       "       Number.of.Engines  Total.Fatal.Injuries  Total.Serious.Injuries  \\\n",
       "count       82805.000000          77488.000000            76379.000000   \n",
       "mean            1.146585              0.647855                0.279881   \n",
       "std             0.446510              5.485960                1.544084   \n",
       "min             0.000000              0.000000                0.000000   \n",
       "25%             1.000000              0.000000                0.000000   \n",
       "50%             1.000000              0.000000                0.000000   \n",
       "75%             1.000000              0.000000                0.000000   \n",
       "max             8.000000            349.000000              161.000000   \n",
       "\n",
       "       Total.Minor.Injuries  Total.Uninjured  \n",
       "count          76956.000000     82977.000000  \n",
       "mean               0.357061         5.325440  \n",
       "std                2.235625        27.913634  \n",
       "min                0.000000         0.000000  \n",
       "25%                0.000000         0.000000  \n",
       "50%                0.000000         1.000000  \n",
       "75%                0.000000         2.000000  \n",
       "max              380.000000       699.000000  "
      ]
     },
     "execution_count": 5,
     "metadata": {},
     "output_type": "execute_result"
    }
   ],
   "source": [
    "df.describe()"
   ]
  },
  {
   "cell_type": "markdown",
   "metadata": {},
   "source": [
    "Here, we can see the **average**, **minimum**, **maximum**, and **total** number of people who **died**, were **seriously injured**, **uninjured**, and had **minor injuries**, as well as the **total number of engines**.\n"
   ]
  },
  {
   "cell_type": "code",
   "execution_count": 6,
   "metadata": {},
   "outputs": [
    {
     "data": {
      "text/plain": [
       "Event.Id                   object\n",
       "Investigation.Type         object\n",
       "Accident.Number            object\n",
       "Event.Date                 object\n",
       "Location                   object\n",
       "Country                    object\n",
       "Latitude                   object\n",
       "Longitude                  object\n",
       "Airport.Code               object\n",
       "Airport.Name               object\n",
       "Injury.Severity            object\n",
       "Aircraft.damage            object\n",
       "Aircraft.Category          object\n",
       "Registration.Number        object\n",
       "Make                       object\n",
       "Model                      object\n",
       "Amateur.Built              object\n",
       "Number.of.Engines         float64\n",
       "Engine.Type                object\n",
       "FAR.Description            object\n",
       "Schedule                   object\n",
       "Purpose.of.flight          object\n",
       "Air.carrier                object\n",
       "Total.Fatal.Injuries      float64\n",
       "Total.Serious.Injuries    float64\n",
       "Total.Minor.Injuries      float64\n",
       "Total.Uninjured           float64\n",
       "Weather.Condition          object\n",
       "Broad.phase.of.flight      object\n",
       "Report.Status              object\n",
       "Publication.Date           object\n",
       "dtype: object"
      ]
     },
     "execution_count": 6,
     "metadata": {},
     "output_type": "execute_result"
    }
   ],
   "source": [
    "df.dtypes"
   ]
  },
  {
   "cell_type": "markdown",
   "metadata": {},
   "source": [
    "## **Data Cleaning**\n",
    "\n",
    "\n",
    "Structuring, Detecting, and correcting errors, inconsistencies, and inaccuracies in a dataset to improve its quality and reliability.  \n"
   ]
  },
  {
   "cell_type": "markdown",
   "metadata": {},
   "source": [
    "### **A. Remove Duplicates, Set `Event.ID` as the Index, and Drop Null Values for `Accident.Number` and `Event.ID`**  \n",
    "\n",
    "- **I started by dropping duplicates in general and then duplicated `Accident.Number` and `Event.ID`**.  \n",
    "- **The reason was that the same event and accident can't happen twice**.  \n",
    "- **For `Accident.Number`, duplicates are two analysis done on the same accident but with diffent findings(here the first analysis is left and secon one treated as a duplicate), but for `Event.ID`, in most cases, the second record is a continution of the first record of the accident (e.g., `NYC08LA062A` and `NYC08LA062B`). the First record will be treated as the original.**\n"
   ]
  },
  {
   "cell_type": "code",
   "execution_count": 7,
   "metadata": {},
   "outputs": [
    {
     "data": {
      "text/plain": [
       "1390"
      ]
     },
     "execution_count": 7,
     "metadata": {},
     "output_type": "execute_result"
    }
   ],
   "source": [
    "df.duplicated().sum() # checking for duplicated rows in the dataset"
   ]
  },
  {
   "cell_type": "code",
   "execution_count": 8,
   "metadata": {},
   "outputs": [],
   "source": [
    "df.drop_duplicates(inplace=True) #dropping the duplicated rows"
   ]
  },
  {
   "cell_type": "code",
   "execution_count": 9,
   "metadata": {},
   "outputs": [
    {
     "data": {
      "text/plain": [
       "(88958, 31)"
      ]
     },
     "execution_count": 9,
     "metadata": {},
     "output_type": "execute_result"
    }
   ],
   "source": [
    "df.shape #checking how many rows am left with"
   ]
  },
  {
   "cell_type": "code",
   "execution_count": 10,
   "metadata": {},
   "outputs": [
    {
     "data": {
      "text/html": [
       "<div>\n",
       "<style scoped>\n",
       "    .dataframe tbody tr th:only-of-type {\n",
       "        vertical-align: middle;\n",
       "    }\n",
       "\n",
       "    .dataframe tbody tr th {\n",
       "        vertical-align: top;\n",
       "    }\n",
       "\n",
       "    .dataframe thead th {\n",
       "        text-align: right;\n",
       "    }\n",
       "</style>\n",
       "<table border=\"1\" class=\"dataframe\">\n",
       "  <thead>\n",
       "    <tr style=\"text-align: right;\">\n",
       "      <th></th>\n",
       "      <th>Event.Id</th>\n",
       "      <th>Investigation.Type</th>\n",
       "      <th>Accident.Number</th>\n",
       "      <th>Event.Date</th>\n",
       "      <th>Location</th>\n",
       "      <th>Country</th>\n",
       "      <th>Latitude</th>\n",
       "      <th>Longitude</th>\n",
       "      <th>Airport.Code</th>\n",
       "      <th>Airport.Name</th>\n",
       "      <th>...</th>\n",
       "      <th>Purpose.of.flight</th>\n",
       "      <th>Air.carrier</th>\n",
       "      <th>Total.Fatal.Injuries</th>\n",
       "      <th>Total.Serious.Injuries</th>\n",
       "      <th>Total.Minor.Injuries</th>\n",
       "      <th>Total.Uninjured</th>\n",
       "      <th>Weather.Condition</th>\n",
       "      <th>Broad.phase.of.flight</th>\n",
       "      <th>Report.Status</th>\n",
       "      <th>Publication.Date</th>\n",
       "    </tr>\n",
       "  </thead>\n",
       "  <tbody>\n",
       "    <tr>\n",
       "      <th>64030</th>\n",
       "      <td>NaN</td>\n",
       "      <td>25-09-2020</td>\n",
       "      <td>NaN</td>\n",
       "      <td>NaN</td>\n",
       "      <td>NaN</td>\n",
       "      <td>NaN</td>\n",
       "      <td>NaN</td>\n",
       "      <td>NaN</td>\n",
       "      <td>NaN</td>\n",
       "      <td>NaN</td>\n",
       "      <td>...</td>\n",
       "      <td>NaN</td>\n",
       "      <td>NaN</td>\n",
       "      <td>NaN</td>\n",
       "      <td>NaN</td>\n",
       "      <td>NaN</td>\n",
       "      <td>NaN</td>\n",
       "      <td>NaN</td>\n",
       "      <td>NaN</td>\n",
       "      <td>NaN</td>\n",
       "      <td>NaN</td>\n",
       "    </tr>\n",
       "    <tr>\n",
       "      <th>69843</th>\n",
       "      <td>NaN</td>\n",
       "      <td>14-06-2021</td>\n",
       "      <td>NaN</td>\n",
       "      <td>NaN</td>\n",
       "      <td>NaN</td>\n",
       "      <td>NaN</td>\n",
       "      <td>NaN</td>\n",
       "      <td>NaN</td>\n",
       "      <td>NaN</td>\n",
       "      <td>NaN</td>\n",
       "      <td>...</td>\n",
       "      <td>NaN</td>\n",
       "      <td>NaN</td>\n",
       "      <td>NaN</td>\n",
       "      <td>NaN</td>\n",
       "      <td>NaN</td>\n",
       "      <td>NaN</td>\n",
       "      <td>NaN</td>\n",
       "      <td>NaN</td>\n",
       "      <td>NaN</td>\n",
       "      <td>NaN</td>\n",
       "    </tr>\n",
       "    <tr>\n",
       "      <th>74420</th>\n",
       "      <td>NaN</td>\n",
       "      <td>03-11-2020</td>\n",
       "      <td>NaN</td>\n",
       "      <td>NaN</td>\n",
       "      <td>NaN</td>\n",
       "      <td>NaN</td>\n",
       "      <td>NaN</td>\n",
       "      <td>NaN</td>\n",
       "      <td>NaN</td>\n",
       "      <td>NaN</td>\n",
       "      <td>...</td>\n",
       "      <td>NaN</td>\n",
       "      <td>NaN</td>\n",
       "      <td>NaN</td>\n",
       "      <td>NaN</td>\n",
       "      <td>NaN</td>\n",
       "      <td>NaN</td>\n",
       "      <td>NaN</td>\n",
       "      <td>NaN</td>\n",
       "      <td>NaN</td>\n",
       "      <td>NaN</td>\n",
       "    </tr>\n",
       "    <tr>\n",
       "      <th>74946</th>\n",
       "      <td>NaN</td>\n",
       "      <td>24-02-2021</td>\n",
       "      <td>NaN</td>\n",
       "      <td>NaN</td>\n",
       "      <td>NaN</td>\n",
       "      <td>NaN</td>\n",
       "      <td>NaN</td>\n",
       "      <td>NaN</td>\n",
       "      <td>NaN</td>\n",
       "      <td>NaN</td>\n",
       "      <td>...</td>\n",
       "      <td>NaN</td>\n",
       "      <td>NaN</td>\n",
       "      <td>NaN</td>\n",
       "      <td>NaN</td>\n",
       "      <td>NaN</td>\n",
       "      <td>NaN</td>\n",
       "      <td>NaN</td>\n",
       "      <td>NaN</td>\n",
       "      <td>NaN</td>\n",
       "      <td>NaN</td>\n",
       "    </tr>\n",
       "    <tr>\n",
       "      <th>75894</th>\n",
       "      <td>NaN</td>\n",
       "      <td>02-02-2021</td>\n",
       "      <td>NaN</td>\n",
       "      <td>NaN</td>\n",
       "      <td>NaN</td>\n",
       "      <td>NaN</td>\n",
       "      <td>NaN</td>\n",
       "      <td>NaN</td>\n",
       "      <td>NaN</td>\n",
       "      <td>NaN</td>\n",
       "      <td>...</td>\n",
       "      <td>NaN</td>\n",
       "      <td>NaN</td>\n",
       "      <td>NaN</td>\n",
       "      <td>NaN</td>\n",
       "      <td>NaN</td>\n",
       "      <td>NaN</td>\n",
       "      <td>NaN</td>\n",
       "      <td>NaN</td>\n",
       "      <td>NaN</td>\n",
       "      <td>NaN</td>\n",
       "    </tr>\n",
       "    <tr>\n",
       "      <th>...</th>\n",
       "      <td>...</td>\n",
       "      <td>...</td>\n",
       "      <td>...</td>\n",
       "      <td>...</td>\n",
       "      <td>...</td>\n",
       "      <td>...</td>\n",
       "      <td>...</td>\n",
       "      <td>...</td>\n",
       "      <td>...</td>\n",
       "      <td>...</td>\n",
       "      <td>...</td>\n",
       "      <td>...</td>\n",
       "      <td>...</td>\n",
       "      <td>...</td>\n",
       "      <td>...</td>\n",
       "      <td>...</td>\n",
       "      <td>...</td>\n",
       "      <td>...</td>\n",
       "      <td>...</td>\n",
       "      <td>...</td>\n",
       "      <td>...</td>\n",
       "    </tr>\n",
       "    <tr>\n",
       "      <th>90255</th>\n",
       "      <td>20221121106336</td>\n",
       "      <td>Accident</td>\n",
       "      <td>WPR23LA041</td>\n",
       "      <td>2022-11-18</td>\n",
       "      <td>Las Vegas, NV</td>\n",
       "      <td>United States</td>\n",
       "      <td>361239N</td>\n",
       "      <td>1151140W</td>\n",
       "      <td>VGT</td>\n",
       "      <td>NORTH LAS VEGAS</td>\n",
       "      <td>...</td>\n",
       "      <td>Instructional</td>\n",
       "      <td>702 HELICOPTER INC</td>\n",
       "      <td>0.0</td>\n",
       "      <td>0.0</td>\n",
       "      <td>0.0</td>\n",
       "      <td>3.0</td>\n",
       "      <td>VMC</td>\n",
       "      <td>NaN</td>\n",
       "      <td>NaN</td>\n",
       "      <td>07-12-2022</td>\n",
       "    </tr>\n",
       "    <tr>\n",
       "      <th>90256</th>\n",
       "      <td>20221122106340</td>\n",
       "      <td>Incident</td>\n",
       "      <td>DCA23WA071</td>\n",
       "      <td>2022-11-18</td>\n",
       "      <td>Marrakech,</td>\n",
       "      <td>Morocco</td>\n",
       "      <td>NaN</td>\n",
       "      <td>NaN</td>\n",
       "      <td>NaN</td>\n",
       "      <td>NaN</td>\n",
       "      <td>...</td>\n",
       "      <td>NaN</td>\n",
       "      <td>British Airways</td>\n",
       "      <td>0.0</td>\n",
       "      <td>0.0</td>\n",
       "      <td>0.0</td>\n",
       "      <td>0.0</td>\n",
       "      <td>NaN</td>\n",
       "      <td>NaN</td>\n",
       "      <td>NaN</td>\n",
       "      <td>NaN</td>\n",
       "    </tr>\n",
       "    <tr>\n",
       "      <th>90257</th>\n",
       "      <td>20221122106340</td>\n",
       "      <td>Incident</td>\n",
       "      <td>DCA23WA071</td>\n",
       "      <td>2022-11-18</td>\n",
       "      <td>Marrakech,</td>\n",
       "      <td>Morocco</td>\n",
       "      <td>NaN</td>\n",
       "      <td>NaN</td>\n",
       "      <td>NaN</td>\n",
       "      <td>NaN</td>\n",
       "      <td>...</td>\n",
       "      <td>NaN</td>\n",
       "      <td>Valair Private Jets</td>\n",
       "      <td>0.0</td>\n",
       "      <td>0.0</td>\n",
       "      <td>0.0</td>\n",
       "      <td>0.0</td>\n",
       "      <td>NaN</td>\n",
       "      <td>NaN</td>\n",
       "      <td>NaN</td>\n",
       "      <td>NaN</td>\n",
       "    </tr>\n",
       "    <tr>\n",
       "      <th>90272</th>\n",
       "      <td>20221123106354</td>\n",
       "      <td>Accident</td>\n",
       "      <td>WPR23LA045</td>\n",
       "      <td>2022-11-22</td>\n",
       "      <td>San Diego, CA</td>\n",
       "      <td>United States</td>\n",
       "      <td>323414N</td>\n",
       "      <td>1165825W</td>\n",
       "      <td>SDM</td>\n",
       "      <td>Brown Field Municipal Airport</td>\n",
       "      <td>...</td>\n",
       "      <td>Instructional</td>\n",
       "      <td>HeliStream Inc.</td>\n",
       "      <td>0.0</td>\n",
       "      <td>0.0</td>\n",
       "      <td>0.0</td>\n",
       "      <td>4.0</td>\n",
       "      <td>VMC</td>\n",
       "      <td>NaN</td>\n",
       "      <td>NaN</td>\n",
       "      <td>22-12-2022</td>\n",
       "    </tr>\n",
       "    <tr>\n",
       "      <th>90273</th>\n",
       "      <td>20221123106354</td>\n",
       "      <td>Accident</td>\n",
       "      <td>WPR23LA045</td>\n",
       "      <td>2022-11-22</td>\n",
       "      <td>San Diego, CA</td>\n",
       "      <td>United States</td>\n",
       "      <td>323414N</td>\n",
       "      <td>1165825W</td>\n",
       "      <td>SDM</td>\n",
       "      <td>Brown Field Municipal Airport</td>\n",
       "      <td>...</td>\n",
       "      <td>Public Aircraft - Federal</td>\n",
       "      <td>U.S. Navy</td>\n",
       "      <td>0.0</td>\n",
       "      <td>0.0</td>\n",
       "      <td>0.0</td>\n",
       "      <td>4.0</td>\n",
       "      <td>VMC</td>\n",
       "      <td>NaN</td>\n",
       "      <td>NaN</td>\n",
       "      <td>22-12-2022</td>\n",
       "    </tr>\n",
       "  </tbody>\n",
       "</table>\n",
       "<p>121 rows × 31 columns</p>\n",
       "</div>"
      ],
      "text/plain": [
       "             Event.Id Investigation.Type Accident.Number  Event.Date  \\\n",
       "64030             NaN         25-09-2020             NaN         NaN   \n",
       "69843             NaN         14-06-2021             NaN         NaN   \n",
       "74420             NaN         03-11-2020             NaN         NaN   \n",
       "74946             NaN         24-02-2021             NaN         NaN   \n",
       "75894             NaN         02-02-2021             NaN         NaN   \n",
       "...               ...                ...             ...         ...   \n",
       "90255  20221121106336           Accident      WPR23LA041  2022-11-18   \n",
       "90256  20221122106340           Incident      DCA23WA071  2022-11-18   \n",
       "90257  20221122106340           Incident      DCA23WA071  2022-11-18   \n",
       "90272  20221123106354           Accident      WPR23LA045  2022-11-22   \n",
       "90273  20221123106354           Accident      WPR23LA045  2022-11-22   \n",
       "\n",
       "            Location        Country Latitude Longitude Airport.Code  \\\n",
       "64030            NaN            NaN      NaN       NaN          NaN   \n",
       "69843            NaN            NaN      NaN       NaN          NaN   \n",
       "74420            NaN            NaN      NaN       NaN          NaN   \n",
       "74946            NaN            NaN      NaN       NaN          NaN   \n",
       "75894            NaN            NaN      NaN       NaN          NaN   \n",
       "...              ...            ...      ...       ...          ...   \n",
       "90255  Las Vegas, NV  United States  361239N  1151140W          VGT   \n",
       "90256    Marrakech,         Morocco      NaN       NaN          NaN   \n",
       "90257    Marrakech,         Morocco      NaN       NaN          NaN   \n",
       "90272  San Diego, CA  United States  323414N  1165825W          SDM   \n",
       "90273  San Diego, CA  United States  323414N  1165825W          SDM   \n",
       "\n",
       "                        Airport.Name  ...          Purpose.of.flight  \\\n",
       "64030                            NaN  ...                        NaN   \n",
       "69843                            NaN  ...                        NaN   \n",
       "74420                            NaN  ...                        NaN   \n",
       "74946                            NaN  ...                        NaN   \n",
       "75894                            NaN  ...                        NaN   \n",
       "...                              ...  ...                        ...   \n",
       "90255                NORTH LAS VEGAS  ...              Instructional   \n",
       "90256                            NaN  ...                        NaN   \n",
       "90257                            NaN  ...                        NaN   \n",
       "90272  Brown Field Municipal Airport  ...              Instructional   \n",
       "90273  Brown Field Municipal Airport  ...  Public Aircraft - Federal   \n",
       "\n",
       "               Air.carrier Total.Fatal.Injuries Total.Serious.Injuries  \\\n",
       "64030                  NaN                  NaN                    NaN   \n",
       "69843                  NaN                  NaN                    NaN   \n",
       "74420                  NaN                  NaN                    NaN   \n",
       "74946                  NaN                  NaN                    NaN   \n",
       "75894                  NaN                  NaN                    NaN   \n",
       "...                    ...                  ...                    ...   \n",
       "90255   702 HELICOPTER INC                  0.0                    0.0   \n",
       "90256      British Airways                  0.0                    0.0   \n",
       "90257  Valair Private Jets                  0.0                    0.0   \n",
       "90272      HeliStream Inc.                  0.0                    0.0   \n",
       "90273            U.S. Navy                  0.0                    0.0   \n",
       "\n",
       "      Total.Minor.Injuries Total.Uninjured Weather.Condition  \\\n",
       "64030                  NaN             NaN               NaN   \n",
       "69843                  NaN             NaN               NaN   \n",
       "74420                  NaN             NaN               NaN   \n",
       "74946                  NaN             NaN               NaN   \n",
       "75894                  NaN             NaN               NaN   \n",
       "...                    ...             ...               ...   \n",
       "90255                  0.0             3.0               VMC   \n",
       "90256                  0.0             0.0               NaN   \n",
       "90257                  0.0             0.0               NaN   \n",
       "90272                  0.0             4.0               VMC   \n",
       "90273                  0.0             4.0               VMC   \n",
       "\n",
       "       Broad.phase.of.flight Report.Status Publication.Date  \n",
       "64030                    NaN           NaN              NaN  \n",
       "69843                    NaN           NaN              NaN  \n",
       "74420                    NaN           NaN              NaN  \n",
       "74946                    NaN           NaN              NaN  \n",
       "75894                    NaN           NaN              NaN  \n",
       "...                      ...           ...              ...  \n",
       "90255                    NaN           NaN       07-12-2022  \n",
       "90256                    NaN           NaN              NaN  \n",
       "90257                    NaN           NaN              NaN  \n",
       "90272                    NaN           NaN       22-12-2022  \n",
       "90273                    NaN           NaN       22-12-2022  \n",
       "\n",
       "[121 rows x 31 columns]"
      ]
     },
     "execution_count": 10,
     "metadata": {},
     "output_type": "execute_result"
    }
   ],
   "source": [
    "#checking for duplicates in the accident number coloum, as you can see its the same accident number, same event. The only difference is there is a miss match of information. The first occurance of the will be used and second deleted \n",
    "df[df.duplicated(subset=['Accident.Number'], keep=False)]"
   ]
  },
  {
   "cell_type": "code",
   "execution_count": 11,
   "metadata": {},
   "outputs": [],
   "source": [
    "df = df.drop_duplicates(subset=['Accident.Number'])# the second records of the accident numbers are dropped"
   ]
  },
  {
   "cell_type": "code",
   "execution_count": 12,
   "metadata": {},
   "outputs": [
    {
     "data": {
      "text/html": [
       "<div>\n",
       "<style scoped>\n",
       "    .dataframe tbody tr th:only-of-type {\n",
       "        vertical-align: middle;\n",
       "    }\n",
       "\n",
       "    .dataframe tbody tr th {\n",
       "        vertical-align: top;\n",
       "    }\n",
       "\n",
       "    .dataframe thead th {\n",
       "        text-align: right;\n",
       "    }\n",
       "</style>\n",
       "<table border=\"1\" class=\"dataframe\">\n",
       "  <thead>\n",
       "    <tr style=\"text-align: right;\">\n",
       "      <th></th>\n",
       "      <th>Event.Id</th>\n",
       "      <th>Investigation.Type</th>\n",
       "      <th>Accident.Number</th>\n",
       "      <th>Event.Date</th>\n",
       "      <th>Location</th>\n",
       "      <th>Country</th>\n",
       "      <th>Latitude</th>\n",
       "      <th>Longitude</th>\n",
       "      <th>Airport.Code</th>\n",
       "      <th>Airport.Name</th>\n",
       "      <th>...</th>\n",
       "      <th>Purpose.of.flight</th>\n",
       "      <th>Air.carrier</th>\n",
       "      <th>Total.Fatal.Injuries</th>\n",
       "      <th>Total.Serious.Injuries</th>\n",
       "      <th>Total.Minor.Injuries</th>\n",
       "      <th>Total.Uninjured</th>\n",
       "      <th>Weather.Condition</th>\n",
       "      <th>Broad.phase.of.flight</th>\n",
       "      <th>Report.Status</th>\n",
       "      <th>Publication.Date</th>\n",
       "    </tr>\n",
       "  </thead>\n",
       "  <tbody>\n",
       "    <tr>\n",
       "      <th>117</th>\n",
       "      <td>20020917X01908</td>\n",
       "      <td>Accident</td>\n",
       "      <td>DCA82AA012B</td>\n",
       "      <td>1982-01-19</td>\n",
       "      <td>ROCKPORT, TX</td>\n",
       "      <td>United States</td>\n",
       "      <td>NaN</td>\n",
       "      <td>NaN</td>\n",
       "      <td>RKP</td>\n",
       "      <td>ARANSAS COUNTY AIRPORT</td>\n",
       "      <td>...</td>\n",
       "      <td>Personal</td>\n",
       "      <td>NaN</td>\n",
       "      <td>3.0</td>\n",
       "      <td>0.0</td>\n",
       "      <td>0.0</td>\n",
       "      <td>0.0</td>\n",
       "      <td>IMC</td>\n",
       "      <td>Approach</td>\n",
       "      <td>Probable Cause</td>\n",
       "      <td>19-01-1983</td>\n",
       "    </tr>\n",
       "    <tr>\n",
       "      <th>118</th>\n",
       "      <td>20020917X01908</td>\n",
       "      <td>Accident</td>\n",
       "      <td>DCA82AA012A</td>\n",
       "      <td>1982-01-19</td>\n",
       "      <td>ROCKPORT, TX</td>\n",
       "      <td>United States</td>\n",
       "      <td>NaN</td>\n",
       "      <td>NaN</td>\n",
       "      <td>RKP</td>\n",
       "      <td>ARANSAS COUNTY AIRPORT</td>\n",
       "      <td>...</td>\n",
       "      <td>Executive/corporate</td>\n",
       "      <td>NaN</td>\n",
       "      <td>3.0</td>\n",
       "      <td>0.0</td>\n",
       "      <td>0.0</td>\n",
       "      <td>0.0</td>\n",
       "      <td>IMC</td>\n",
       "      <td>Approach</td>\n",
       "      <td>Probable Cause</td>\n",
       "      <td>19-01-1983</td>\n",
       "    </tr>\n",
       "    <tr>\n",
       "      <th>153</th>\n",
       "      <td>20020917X02259</td>\n",
       "      <td>Accident</td>\n",
       "      <td>LAX82FA049A</td>\n",
       "      <td>1982-01-23</td>\n",
       "      <td>VICTORVILLE, CA</td>\n",
       "      <td>United States</td>\n",
       "      <td>NaN</td>\n",
       "      <td>NaN</td>\n",
       "      <td>NaN</td>\n",
       "      <td>NaN</td>\n",
       "      <td>...</td>\n",
       "      <td>Personal</td>\n",
       "      <td>NaN</td>\n",
       "      <td>2.0</td>\n",
       "      <td>0.0</td>\n",
       "      <td>4.0</td>\n",
       "      <td>0.0</td>\n",
       "      <td>VMC</td>\n",
       "      <td>Unknown</td>\n",
       "      <td>Probable Cause</td>\n",
       "      <td>23-01-1983</td>\n",
       "    </tr>\n",
       "    <tr>\n",
       "      <th>158</th>\n",
       "      <td>20020917X02400</td>\n",
       "      <td>Accident</td>\n",
       "      <td>MIA82FA038B</td>\n",
       "      <td>1982-01-23</td>\n",
       "      <td>NEWPORT RICHEY, FL</td>\n",
       "      <td>United States</td>\n",
       "      <td>NaN</td>\n",
       "      <td>NaN</td>\n",
       "      <td>NaN</td>\n",
       "      <td>NaN</td>\n",
       "      <td>...</td>\n",
       "      <td>Personal</td>\n",
       "      <td>NaN</td>\n",
       "      <td>0.0</td>\n",
       "      <td>0.0</td>\n",
       "      <td>0.0</td>\n",
       "      <td>3.0</td>\n",
       "      <td>VMC</td>\n",
       "      <td>Cruise</td>\n",
       "      <td>Probable Cause</td>\n",
       "      <td>23-01-1983</td>\n",
       "    </tr>\n",
       "    <tr>\n",
       "      <th>159</th>\n",
       "      <td>20020917X02400</td>\n",
       "      <td>Accident</td>\n",
       "      <td>MIA82FA038A</td>\n",
       "      <td>1982-01-23</td>\n",
       "      <td>NEWPORT RICHEY, FL</td>\n",
       "      <td>United States</td>\n",
       "      <td>NaN</td>\n",
       "      <td>NaN</td>\n",
       "      <td>NaN</td>\n",
       "      <td>NaN</td>\n",
       "      <td>...</td>\n",
       "      <td>Personal</td>\n",
       "      <td>NaN</td>\n",
       "      <td>0.0</td>\n",
       "      <td>0.0</td>\n",
       "      <td>0.0</td>\n",
       "      <td>3.0</td>\n",
       "      <td>VMC</td>\n",
       "      <td>Approach</td>\n",
       "      <td>Probable Cause</td>\n",
       "      <td>23-01-1983</td>\n",
       "    </tr>\n",
       "    <tr>\n",
       "      <th>...</th>\n",
       "      <td>...</td>\n",
       "      <td>...</td>\n",
       "      <td>...</td>\n",
       "      <td>...</td>\n",
       "      <td>...</td>\n",
       "      <td>...</td>\n",
       "      <td>...</td>\n",
       "      <td>...</td>\n",
       "      <td>...</td>\n",
       "      <td>...</td>\n",
       "      <td>...</td>\n",
       "      <td>...</td>\n",
       "      <td>...</td>\n",
       "      <td>...</td>\n",
       "      <td>...</td>\n",
       "      <td>...</td>\n",
       "      <td>...</td>\n",
       "      <td>...</td>\n",
       "      <td>...</td>\n",
       "      <td>...</td>\n",
       "      <td>...</td>\n",
       "    </tr>\n",
       "    <tr>\n",
       "      <th>63823</th>\n",
       "      <td>20071227X02001</td>\n",
       "      <td>Accident</td>\n",
       "      <td>NYC08FA054A</td>\n",
       "      <td>2007-12-08</td>\n",
       "      <td>Parkland, FL</td>\n",
       "      <td>United States</td>\n",
       "      <td>26.347222</td>\n",
       "      <td>-80.315278</td>\n",
       "      <td>NaN</td>\n",
       "      <td>NaN</td>\n",
       "      <td>...</td>\n",
       "      <td>Personal</td>\n",
       "      <td>NaN</td>\n",
       "      <td>2.0</td>\n",
       "      <td>NaN</td>\n",
       "      <td>NaN</td>\n",
       "      <td>NaN</td>\n",
       "      <td>VMC</td>\n",
       "      <td>Cruise</td>\n",
       "      <td>Probable Cause</td>\n",
       "      <td>10-09-2015</td>\n",
       "    </tr>\n",
       "    <tr>\n",
       "      <th>63841</th>\n",
       "      <td>20080213X00187</td>\n",
       "      <td>Accident</td>\n",
       "      <td>NYC08LA062B</td>\n",
       "      <td>2007-12-14</td>\n",
       "      <td>NEW YORK, NY</td>\n",
       "      <td>United States</td>\n",
       "      <td>40.658333</td>\n",
       "      <td>-73.786666</td>\n",
       "      <td>JFK</td>\n",
       "      <td>John F. Kennedy International</td>\n",
       "      <td>...</td>\n",
       "      <td>Positioning</td>\n",
       "      <td>NaN</td>\n",
       "      <td>NaN</td>\n",
       "      <td>NaN</td>\n",
       "      <td>NaN</td>\n",
       "      <td>5.0</td>\n",
       "      <td>IMC</td>\n",
       "      <td>Standing</td>\n",
       "      <td>Probable Cause</td>\n",
       "      <td>30-09-2009</td>\n",
       "    </tr>\n",
       "    <tr>\n",
       "      <th>63842</th>\n",
       "      <td>20080213X00187</td>\n",
       "      <td>Accident</td>\n",
       "      <td>NYC08LA062A</td>\n",
       "      <td>2007-12-14</td>\n",
       "      <td>NEW YORK, NY</td>\n",
       "      <td>United States</td>\n",
       "      <td>40.658333</td>\n",
       "      <td>-73.786666</td>\n",
       "      <td>JFK</td>\n",
       "      <td>John F. Kennedy International</td>\n",
       "      <td>...</td>\n",
       "      <td>Positioning</td>\n",
       "      <td>Air China Airlines</td>\n",
       "      <td>NaN</td>\n",
       "      <td>NaN</td>\n",
       "      <td>NaN</td>\n",
       "      <td>5.0</td>\n",
       "      <td>IMC</td>\n",
       "      <td>Taxi</td>\n",
       "      <td>Probable Cause</td>\n",
       "      <td>30-09-2009</td>\n",
       "    </tr>\n",
       "    <tr>\n",
       "      <th>63897</th>\n",
       "      <td>20080128X00107</td>\n",
       "      <td>Incident</td>\n",
       "      <td>OPS08IA004B</td>\n",
       "      <td>2007-12-27</td>\n",
       "      <td>Teterboro, NJ</td>\n",
       "      <td>United States</td>\n",
       "      <td>NaN</td>\n",
       "      <td>NaN</td>\n",
       "      <td>NaN</td>\n",
       "      <td>NaN</td>\n",
       "      <td>...</td>\n",
       "      <td>NaN</td>\n",
       "      <td>NaN</td>\n",
       "      <td>NaN</td>\n",
       "      <td>NaN</td>\n",
       "      <td>NaN</td>\n",
       "      <td>2.0</td>\n",
       "      <td>VMC</td>\n",
       "      <td>Taxi</td>\n",
       "      <td>Probable Cause</td>\n",
       "      <td>31-03-2008</td>\n",
       "    </tr>\n",
       "    <tr>\n",
       "      <th>63898</th>\n",
       "      <td>20080128X00107</td>\n",
       "      <td>Incident</td>\n",
       "      <td>OPS08IA004A</td>\n",
       "      <td>2007-12-27</td>\n",
       "      <td>Teterboro, NJ</td>\n",
       "      <td>United States</td>\n",
       "      <td>NaN</td>\n",
       "      <td>NaN</td>\n",
       "      <td>NaN</td>\n",
       "      <td>NaN</td>\n",
       "      <td>...</td>\n",
       "      <td>Unknown</td>\n",
       "      <td>NaN</td>\n",
       "      <td>NaN</td>\n",
       "      <td>NaN</td>\n",
       "      <td>NaN</td>\n",
       "      <td>2.0</td>\n",
       "      <td>VMC</td>\n",
       "      <td>Takeoff</td>\n",
       "      <td>Probable Cause</td>\n",
       "      <td>31-03-2008</td>\n",
       "    </tr>\n",
       "  </tbody>\n",
       "</table>\n",
       "<p>1822 rows × 31 columns</p>\n",
       "</div>"
      ],
      "text/plain": [
       "             Event.Id Investigation.Type Accident.Number  Event.Date  \\\n",
       "117    20020917X01908           Accident     DCA82AA012B  1982-01-19   \n",
       "118    20020917X01908           Accident     DCA82AA012A  1982-01-19   \n",
       "153    20020917X02259           Accident     LAX82FA049A  1982-01-23   \n",
       "158    20020917X02400           Accident     MIA82FA038B  1982-01-23   \n",
       "159    20020917X02400           Accident     MIA82FA038A  1982-01-23   \n",
       "...               ...                ...             ...         ...   \n",
       "63823  20071227X02001           Accident     NYC08FA054A  2007-12-08   \n",
       "63841  20080213X00187           Accident     NYC08LA062B  2007-12-14   \n",
       "63842  20080213X00187           Accident     NYC08LA062A  2007-12-14   \n",
       "63897  20080128X00107           Incident     OPS08IA004B  2007-12-27   \n",
       "63898  20080128X00107           Incident     OPS08IA004A  2007-12-27   \n",
       "\n",
       "                 Location        Country   Latitude   Longitude Airport.Code  \\\n",
       "117          ROCKPORT, TX  United States        NaN         NaN          RKP   \n",
       "118          ROCKPORT, TX  United States        NaN         NaN          RKP   \n",
       "153       VICTORVILLE, CA  United States        NaN         NaN          NaN   \n",
       "158    NEWPORT RICHEY, FL  United States        NaN         NaN          NaN   \n",
       "159    NEWPORT RICHEY, FL  United States        NaN         NaN          NaN   \n",
       "...                   ...            ...        ...         ...          ...   \n",
       "63823        Parkland, FL  United States  26.347222  -80.315278          NaN   \n",
       "63841        NEW YORK, NY  United States  40.658333  -73.786666          JFK   \n",
       "63842        NEW YORK, NY  United States  40.658333  -73.786666          JFK   \n",
       "63897       Teterboro, NJ  United States        NaN         NaN          NaN   \n",
       "63898       Teterboro, NJ  United States        NaN         NaN          NaN   \n",
       "\n",
       "                        Airport.Name  ...    Purpose.of.flight  \\\n",
       "117           ARANSAS COUNTY AIRPORT  ...             Personal   \n",
       "118           ARANSAS COUNTY AIRPORT  ...  Executive/corporate   \n",
       "153                              NaN  ...             Personal   \n",
       "158                              NaN  ...             Personal   \n",
       "159                              NaN  ...             Personal   \n",
       "...                              ...  ...                  ...   \n",
       "63823                            NaN  ...             Personal   \n",
       "63841  John F. Kennedy International  ...          Positioning   \n",
       "63842  John F. Kennedy International  ...          Positioning   \n",
       "63897                            NaN  ...                  NaN   \n",
       "63898                            NaN  ...              Unknown   \n",
       "\n",
       "              Air.carrier Total.Fatal.Injuries Total.Serious.Injuries  \\\n",
       "117                   NaN                  3.0                    0.0   \n",
       "118                   NaN                  3.0                    0.0   \n",
       "153                   NaN                  2.0                    0.0   \n",
       "158                   NaN                  0.0                    0.0   \n",
       "159                   NaN                  0.0                    0.0   \n",
       "...                   ...                  ...                    ...   \n",
       "63823                 NaN                  2.0                    NaN   \n",
       "63841                 NaN                  NaN                    NaN   \n",
       "63842  Air China Airlines                  NaN                    NaN   \n",
       "63897                 NaN                  NaN                    NaN   \n",
       "63898                 NaN                  NaN                    NaN   \n",
       "\n",
       "      Total.Minor.Injuries Total.Uninjured Weather.Condition  \\\n",
       "117                    0.0             0.0               IMC   \n",
       "118                    0.0             0.0               IMC   \n",
       "153                    4.0             0.0               VMC   \n",
       "158                    0.0             3.0               VMC   \n",
       "159                    0.0             3.0               VMC   \n",
       "...                    ...             ...               ...   \n",
       "63823                  NaN             NaN               VMC   \n",
       "63841                  NaN             5.0               IMC   \n",
       "63842                  NaN             5.0               IMC   \n",
       "63897                  NaN             2.0               VMC   \n",
       "63898                  NaN             2.0               VMC   \n",
       "\n",
       "       Broad.phase.of.flight   Report.Status Publication.Date  \n",
       "117                 Approach  Probable Cause       19-01-1983  \n",
       "118                 Approach  Probable Cause       19-01-1983  \n",
       "153                  Unknown  Probable Cause       23-01-1983  \n",
       "158                   Cruise  Probable Cause       23-01-1983  \n",
       "159                 Approach  Probable Cause       23-01-1983  \n",
       "...                      ...             ...              ...  \n",
       "63823                 Cruise  Probable Cause       10-09-2015  \n",
       "63841               Standing  Probable Cause       30-09-2009  \n",
       "63842                   Taxi  Probable Cause       30-09-2009  \n",
       "63897                   Taxi  Probable Cause       31-03-2008  \n",
       "63898                Takeoff  Probable Cause       31-03-2008  \n",
       "\n",
       "[1822 rows x 31 columns]"
      ]
     },
     "execution_count": 12,
     "metadata": {},
     "output_type": "execute_result"
    }
   ],
   "source": [
    "df[df.duplicated(subset=['Event.Id'], keep=False)]# for the event rom this table you can see the second event is a continuation of the first event's records\n"
   ]
  },
  {
   "cell_type": "code",
   "execution_count": 14,
   "metadata": {},
   "outputs": [],
   "source": [
    "df = df.drop_duplicates(subset=['Event.Id']) #here we drop the second record"
   ]
  },
  {
   "cell_type": "code",
   "execution_count": 13,
   "metadata": {},
   "outputs": [
    {
     "data": {
      "text/plain": [
       "(88864, 31)"
      ]
     },
     "execution_count": 13,
     "metadata": {},
     "output_type": "execute_result"
    }
   ],
   "source": [
    "df.shape # Now we check the number of rows that are remaining"
   ]
  },
  {
   "cell_type": "code",
   "execution_count": 15,
   "metadata": {},
   "outputs": [
    {
     "data": {
      "text/plain": [
       "1"
      ]
     },
     "execution_count": 15,
     "metadata": {},
     "output_type": "execute_result"
    }
   ],
   "source": [
    "df['Accident.Number'].isna().sum()#Now we drop the null values in the accident number, its just one"
   ]
  },
  {
   "cell_type": "code",
   "execution_count": 16,
   "metadata": {},
   "outputs": [],
   "source": [
    "df = df.dropna(subset=[\"Accident.Number\"])"
   ]
  },
  {
   "cell_type": "code",
   "execution_count": 17,
   "metadata": {},
   "outputs": [
    {
     "data": {
      "text/plain": [
       "0"
      ]
     },
     "execution_count": 17,
     "metadata": {},
     "output_type": "execute_result"
    }
   ],
   "source": [
    "df['Event.Id'].isna().sum() # checking for null values in event ID, and there is none."
   ]
  },
  {
   "cell_type": "code",
   "execution_count": 18,
   "metadata": {},
   "outputs": [],
   "source": [
    "df=df.set_index('Event.Id') # Now we set the event ID as the index"
   ]
  },
  {
   "cell_type": "code",
   "execution_count": 19,
   "metadata": {},
   "outputs": [
    {
     "data": {
      "text/plain": [
       "(87951, 30)"
      ]
     },
     "execution_count": 19,
     "metadata": {},
     "output_type": "execute_result"
    }
   ],
   "source": [
    "df.shape # checking if the number of rows remaining"
   ]
  },
  {
   "cell_type": "markdown",
   "metadata": {},
   "source": [
    "### **B. Removing Columns with a High Percentage of Null Values**  \r\n",
    "\r\n",
    "- **Because we can't fill in the missing values, any column with more than 20% missing values will be deleted** since they **cannot be used**.  \r\n"
   ]
  },
  {
   "cell_type": "code",
   "execution_count": 22,
   "metadata": {},
   "outputs": [
    {
     "data": {
      "text/plain": [
       "Investigation.Type            0\n",
       "Accident.Number               0\n",
       "Event.Date                    0\n",
       "Location                     52\n",
       "Country                     222\n",
       "Latitude                  53739\n",
       "Longitude                 53748\n",
       "Airport.Code              38467\n",
       "Airport.Name              35920\n",
       "Injury.Severity             990\n",
       "Aircraft.damage            3103\n",
       "Aircraft.Category         55770\n",
       "Registration.Number        1350\n",
       "Make                         63\n",
       "Model                        92\n",
       "Amateur.Built               100\n",
       "Number.of.Engines          6027\n",
       "Engine.Type                7043\n",
       "FAR.Description           56036\n",
       "Schedule                  75591\n",
       "Purpose.of.flight          6122\n",
       "Air.carrier               71418\n",
       "Total.Fatal.Injuries      11267\n",
       "Total.Serious.Injuries    12322\n",
       "Total.Minor.Injuries      11760\n",
       "Total.Uninjured            5863\n",
       "Weather.Condition          4473\n",
       "Broad.phase.of.flight     27114\n",
       "Report.Status              6364\n",
       "Publication.Date          15057\n",
       "dtype: int64"
      ]
     },
     "execution_count": 22,
     "metadata": {},
     "output_type": "execute_result"
    }
   ],
   "source": [
    "df.isna().sum() # checking the missing values in the dataset, Schedule and air carrier seem to have a significantly high number of missing values"
   ]
  },
  {
   "cell_type": "markdown",
   "metadata": {},
   "source": [
    "Checking the Percentage of Missing Data in Columns with the Highest Missing Values and Dropping Those Above 75%  \n"
   ]
  },
  {
   "cell_type": "code",
   "execution_count": 23,
   "metadata": {},
   "outputs": [
    {
     "data": {
      "text/plain": [
       "85.94672033291263"
      ]
     },
     "execution_count": 23,
     "metadata": {},
     "output_type": "execute_result"
    }
   ],
   "source": [
    "df['Schedule'].isna().mean() * 100"
   ]
  },
  {
   "cell_type": "code",
   "execution_count": 24,
   "metadata": {},
   "outputs": [
    {
     "data": {
      "text/plain": [
       "81.20203295016543"
      ]
     },
     "execution_count": 24,
     "metadata": {},
     "output_type": "execute_result"
    }
   ],
   "source": [
    "df['Air.carrier'].isna().mean() * 100"
   ]
  },
  {
   "cell_type": "code",
   "execution_count": 25,
   "metadata": {},
   "outputs": [],
   "source": [
    "df = df.drop(columns=['Schedule']) #the percentages are above 80% and therefore have to be dropped\n",
    "\n",
    "df = df.drop(columns=['Air.carrier'])"
   ]
  },
  {
   "cell_type": "code",
   "execution_count": 25,
   "metadata": {},
   "outputs": [
    {
     "data": {
      "text/plain": [
       "(87951, 28)"
      ]
     },
     "execution_count": 25,
     "metadata": {},
     "output_type": "execute_result"
    }
   ],
   "source": [
    "df.shape #checking for the remaing rows"
   ]
  },
  {
   "cell_type": "markdown",
   "metadata": {},
   "source": [
    "### **C. Filtering `Investigation.Type`**  \r\n",
    "\r\n",
    "- **We will only be looking at accidents**, so we will **remove rows where the value is 'Incident'**.  \r\n"
   ]
  },
  {
   "cell_type": "code",
   "execution_count": 26,
   "metadata": {},
   "outputs": [
    {
     "data": {
      "text/plain": [
       "Investigation.Type\n",
       "Accident    84190\n",
       "Incident     3761\n",
       "Name: count, dtype: int64"
      ]
     },
     "execution_count": 26,
     "metadata": {},
     "output_type": "execute_result"
    }
   ],
   "source": [
    "df['Investigation.Type'].value_counts()"
   ]
  },
  {
   "cell_type": "code",
   "execution_count": 28,
   "metadata": {},
   "outputs": [
    {
     "data": {
      "text/plain": [
       "0.0"
      ]
     },
     "execution_count": 28,
     "metadata": {},
     "output_type": "execute_result"
    }
   ],
   "source": [
    "df[\"Investigation.Type\"].isna().mean() # Checking for null values"
   ]
  },
  {
   "cell_type": "code",
   "execution_count": 29,
   "metadata": {},
   "outputs": [],
   "source": [
    "df = df[df[\"Investigation.Type\"] != \"Incident\"]# dropping events that were incidences"
   ]
  },
  {
   "cell_type": "code",
   "execution_count": 30,
   "metadata": {},
   "outputs": [
    {
     "data": {
      "text/plain": [
       "(84190, 28)"
      ]
     },
     "execution_count": 30,
     "metadata": {},
     "output_type": "execute_result"
    }
   ],
   "source": [
    "df.shape #checking for how many rows are remaining\n"
   ]
  },
  {
   "cell_type": "code",
   "execution_count": 31,
   "metadata": {},
   "outputs": [
    {
     "data": {
      "text/html": [
       "<div>\n",
       "<style scoped>\n",
       "    .dataframe tbody tr th:only-of-type {\n",
       "        vertical-align: middle;\n",
       "    }\n",
       "\n",
       "    .dataframe tbody tr th {\n",
       "        vertical-align: top;\n",
       "    }\n",
       "\n",
       "    .dataframe thead th {\n",
       "        text-align: right;\n",
       "    }\n",
       "</style>\n",
       "<table border=\"1\" class=\"dataframe\">\n",
       "  <thead>\n",
       "    <tr style=\"text-align: right;\">\n",
       "      <th></th>\n",
       "      <th>Investigation.Type</th>\n",
       "      <th>Accident.Number</th>\n",
       "      <th>Event.Date</th>\n",
       "      <th>Location</th>\n",
       "      <th>Country</th>\n",
       "      <th>Latitude</th>\n",
       "      <th>Longitude</th>\n",
       "      <th>Airport.Code</th>\n",
       "      <th>Airport.Name</th>\n",
       "      <th>Injury.Severity</th>\n",
       "      <th>...</th>\n",
       "      <th>FAR.Description</th>\n",
       "      <th>Purpose.of.flight</th>\n",
       "      <th>Total.Fatal.Injuries</th>\n",
       "      <th>Total.Serious.Injuries</th>\n",
       "      <th>Total.Minor.Injuries</th>\n",
       "      <th>Total.Uninjured</th>\n",
       "      <th>Weather.Condition</th>\n",
       "      <th>Broad.phase.of.flight</th>\n",
       "      <th>Report.Status</th>\n",
       "      <th>Publication.Date</th>\n",
       "    </tr>\n",
       "    <tr>\n",
       "      <th>Event.Id</th>\n",
       "      <th></th>\n",
       "      <th></th>\n",
       "      <th></th>\n",
       "      <th></th>\n",
       "      <th></th>\n",
       "      <th></th>\n",
       "      <th></th>\n",
       "      <th></th>\n",
       "      <th></th>\n",
       "      <th></th>\n",
       "      <th></th>\n",
       "      <th></th>\n",
       "      <th></th>\n",
       "      <th></th>\n",
       "      <th></th>\n",
       "      <th></th>\n",
       "      <th></th>\n",
       "      <th></th>\n",
       "      <th></th>\n",
       "      <th></th>\n",
       "      <th></th>\n",
       "    </tr>\n",
       "  </thead>\n",
       "  <tbody>\n",
       "    <tr>\n",
       "      <th>20001218X45444</th>\n",
       "      <td>Accident</td>\n",
       "      <td>SEA87LA080</td>\n",
       "      <td>1948-10-24</td>\n",
       "      <td>MOOSE CREEK, ID</td>\n",
       "      <td>United States</td>\n",
       "      <td>NaN</td>\n",
       "      <td>NaN</td>\n",
       "      <td>NaN</td>\n",
       "      <td>NaN</td>\n",
       "      <td>Fatal(2)</td>\n",
       "      <td>...</td>\n",
       "      <td>NaN</td>\n",
       "      <td>Personal</td>\n",
       "      <td>2.0</td>\n",
       "      <td>0.0</td>\n",
       "      <td>0.0</td>\n",
       "      <td>0.0</td>\n",
       "      <td>UNK</td>\n",
       "      <td>Cruise</td>\n",
       "      <td>Probable Cause</td>\n",
       "      <td>NaN</td>\n",
       "    </tr>\n",
       "    <tr>\n",
       "      <th>20001218X45447</th>\n",
       "      <td>Accident</td>\n",
       "      <td>LAX94LA336</td>\n",
       "      <td>1962-07-19</td>\n",
       "      <td>BRIDGEPORT, CA</td>\n",
       "      <td>United States</td>\n",
       "      <td>NaN</td>\n",
       "      <td>NaN</td>\n",
       "      <td>NaN</td>\n",
       "      <td>NaN</td>\n",
       "      <td>Fatal(4)</td>\n",
       "      <td>...</td>\n",
       "      <td>NaN</td>\n",
       "      <td>Personal</td>\n",
       "      <td>4.0</td>\n",
       "      <td>0.0</td>\n",
       "      <td>0.0</td>\n",
       "      <td>0.0</td>\n",
       "      <td>UNK</td>\n",
       "      <td>Unknown</td>\n",
       "      <td>Probable Cause</td>\n",
       "      <td>19-09-1996</td>\n",
       "    </tr>\n",
       "    <tr>\n",
       "      <th>20061025X01555</th>\n",
       "      <td>Accident</td>\n",
       "      <td>NYC07LA005</td>\n",
       "      <td>1974-08-30</td>\n",
       "      <td>Saltville, VA</td>\n",
       "      <td>United States</td>\n",
       "      <td>36.922223</td>\n",
       "      <td>-81.878056</td>\n",
       "      <td>NaN</td>\n",
       "      <td>NaN</td>\n",
       "      <td>Fatal(3)</td>\n",
       "      <td>...</td>\n",
       "      <td>NaN</td>\n",
       "      <td>Personal</td>\n",
       "      <td>3.0</td>\n",
       "      <td>NaN</td>\n",
       "      <td>NaN</td>\n",
       "      <td>NaN</td>\n",
       "      <td>IMC</td>\n",
       "      <td>Cruise</td>\n",
       "      <td>Probable Cause</td>\n",
       "      <td>26-02-2007</td>\n",
       "    </tr>\n",
       "    <tr>\n",
       "      <th>20001218X45448</th>\n",
       "      <td>Accident</td>\n",
       "      <td>LAX96LA321</td>\n",
       "      <td>1977-06-19</td>\n",
       "      <td>EUREKA, CA</td>\n",
       "      <td>United States</td>\n",
       "      <td>NaN</td>\n",
       "      <td>NaN</td>\n",
       "      <td>NaN</td>\n",
       "      <td>NaN</td>\n",
       "      <td>Fatal(2)</td>\n",
       "      <td>...</td>\n",
       "      <td>NaN</td>\n",
       "      <td>Personal</td>\n",
       "      <td>2.0</td>\n",
       "      <td>0.0</td>\n",
       "      <td>0.0</td>\n",
       "      <td>0.0</td>\n",
       "      <td>IMC</td>\n",
       "      <td>Cruise</td>\n",
       "      <td>Probable Cause</td>\n",
       "      <td>12-09-2000</td>\n",
       "    </tr>\n",
       "    <tr>\n",
       "      <th>20041105X01764</th>\n",
       "      <td>Accident</td>\n",
       "      <td>CHI79FA064</td>\n",
       "      <td>1979-08-02</td>\n",
       "      <td>Canton, OH</td>\n",
       "      <td>United States</td>\n",
       "      <td>NaN</td>\n",
       "      <td>NaN</td>\n",
       "      <td>NaN</td>\n",
       "      <td>NaN</td>\n",
       "      <td>Fatal(1)</td>\n",
       "      <td>...</td>\n",
       "      <td>NaN</td>\n",
       "      <td>Personal</td>\n",
       "      <td>1.0</td>\n",
       "      <td>2.0</td>\n",
       "      <td>NaN</td>\n",
       "      <td>0.0</td>\n",
       "      <td>VMC</td>\n",
       "      <td>Approach</td>\n",
       "      <td>Probable Cause</td>\n",
       "      <td>16-04-1980</td>\n",
       "    </tr>\n",
       "  </tbody>\n",
       "</table>\n",
       "<p>5 rows × 28 columns</p>\n",
       "</div>"
      ],
      "text/plain": [
       "               Investigation.Type Accident.Number  Event.Date  \\\n",
       "Event.Id                                                        \n",
       "20001218X45444           Accident      SEA87LA080  1948-10-24   \n",
       "20001218X45447           Accident      LAX94LA336  1962-07-19   \n",
       "20061025X01555           Accident      NYC07LA005  1974-08-30   \n",
       "20001218X45448           Accident      LAX96LA321  1977-06-19   \n",
       "20041105X01764           Accident      CHI79FA064  1979-08-02   \n",
       "\n",
       "                       Location        Country   Latitude   Longitude  \\\n",
       "Event.Id                                                                \n",
       "20001218X45444  MOOSE CREEK, ID  United States        NaN         NaN   \n",
       "20001218X45447   BRIDGEPORT, CA  United States        NaN         NaN   \n",
       "20061025X01555    Saltville, VA  United States  36.922223  -81.878056   \n",
       "20001218X45448       EUREKA, CA  United States        NaN         NaN   \n",
       "20041105X01764       Canton, OH  United States        NaN         NaN   \n",
       "\n",
       "               Airport.Code Airport.Name Injury.Severity  ... FAR.Description  \\\n",
       "Event.Id                                                  ...                   \n",
       "20001218X45444          NaN          NaN        Fatal(2)  ...             NaN   \n",
       "20001218X45447          NaN          NaN        Fatal(4)  ...             NaN   \n",
       "20061025X01555          NaN          NaN        Fatal(3)  ...             NaN   \n",
       "20001218X45448          NaN          NaN        Fatal(2)  ...             NaN   \n",
       "20041105X01764          NaN          NaN        Fatal(1)  ...             NaN   \n",
       "\n",
       "               Purpose.of.flight Total.Fatal.Injuries Total.Serious.Injuries  \\\n",
       "Event.Id                                                                       \n",
       "20001218X45444          Personal                  2.0                    0.0   \n",
       "20001218X45447          Personal                  4.0                    0.0   \n",
       "20061025X01555          Personal                  3.0                    NaN   \n",
       "20001218X45448          Personal                  2.0                    0.0   \n",
       "20041105X01764          Personal                  1.0                    2.0   \n",
       "\n",
       "               Total.Minor.Injuries Total.Uninjured  Weather.Condition  \\\n",
       "Event.Id                                                                 \n",
       "20001218X45444                  0.0             0.0                UNK   \n",
       "20001218X45447                  0.0             0.0                UNK   \n",
       "20061025X01555                  NaN             NaN                IMC   \n",
       "20001218X45448                  0.0             0.0                IMC   \n",
       "20041105X01764                  NaN             0.0                VMC   \n",
       "\n",
       "               Broad.phase.of.flight   Report.Status Publication.Date  \n",
       "Event.Id                                                               \n",
       "20001218X45444                Cruise  Probable Cause              NaN  \n",
       "20001218X45447               Unknown  Probable Cause       19-09-1996  \n",
       "20061025X01555                Cruise  Probable Cause       26-02-2007  \n",
       "20001218X45448                Cruise  Probable Cause       12-09-2000  \n",
       "20041105X01764              Approach  Probable Cause       16-04-1980  \n",
       "\n",
       "[5 rows x 28 columns]"
      ]
     },
     "execution_count": 31,
     "metadata": {},
     "output_type": "execute_result"
    }
   ],
   "source": [
    "df.head()"
   ]
  },
  {
   "cell_type": "markdown",
   "metadata": {},
   "source": [
    "D. Convert **\"Event.Date\"** to years because am going to be using years"
   ]
  },
  {
   "cell_type": "code",
   "execution_count": 32,
   "metadata": {},
   "outputs": [],
   "source": [
    "df['Event.Date'] = pd.to_datetime(df['Event.Date']) # first convert the coloum to the correct date column\n",
    "df['Event.Date'] = df['Event.Date'].dt.year # then change the dates to years only"
   ]
  },
  {
   "cell_type": "code",
   "execution_count": 33,
   "metadata": {},
   "outputs": [
    {
     "data": {
      "text/plain": [
       "0"
      ]
     },
     "execution_count": 33,
     "metadata": {},
     "output_type": "execute_result"
    }
   ],
   "source": [
    "df[\"Event.Date\"].isna().sum() #checking for null values in the column\n"
   ]
  },
  {
   "cell_type": "code",
   "execution_count": 34,
   "metadata": {},
   "outputs": [
    {
     "data": {
      "text/html": [
       "<div>\n",
       "<style scoped>\n",
       "    .dataframe tbody tr th:only-of-type {\n",
       "        vertical-align: middle;\n",
       "    }\n",
       "\n",
       "    .dataframe tbody tr th {\n",
       "        vertical-align: top;\n",
       "    }\n",
       "\n",
       "    .dataframe thead th {\n",
       "        text-align: right;\n",
       "    }\n",
       "</style>\n",
       "<table border=\"1\" class=\"dataframe\">\n",
       "  <thead>\n",
       "    <tr style=\"text-align: right;\">\n",
       "      <th></th>\n",
       "      <th>Investigation.Type</th>\n",
       "      <th>Accident.Number</th>\n",
       "      <th>Event.Date</th>\n",
       "      <th>Location</th>\n",
       "      <th>Country</th>\n",
       "      <th>Latitude</th>\n",
       "      <th>Longitude</th>\n",
       "      <th>Airport.Code</th>\n",
       "      <th>Airport.Name</th>\n",
       "      <th>Injury.Severity</th>\n",
       "      <th>...</th>\n",
       "      <th>FAR.Description</th>\n",
       "      <th>Purpose.of.flight</th>\n",
       "      <th>Total.Fatal.Injuries</th>\n",
       "      <th>Total.Serious.Injuries</th>\n",
       "      <th>Total.Minor.Injuries</th>\n",
       "      <th>Total.Uninjured</th>\n",
       "      <th>Weather.Condition</th>\n",
       "      <th>Broad.phase.of.flight</th>\n",
       "      <th>Report.Status</th>\n",
       "      <th>Publication.Date</th>\n",
       "    </tr>\n",
       "    <tr>\n",
       "      <th>Event.Id</th>\n",
       "      <th></th>\n",
       "      <th></th>\n",
       "      <th></th>\n",
       "      <th></th>\n",
       "      <th></th>\n",
       "      <th></th>\n",
       "      <th></th>\n",
       "      <th></th>\n",
       "      <th></th>\n",
       "      <th></th>\n",
       "      <th></th>\n",
       "      <th></th>\n",
       "      <th></th>\n",
       "      <th></th>\n",
       "      <th></th>\n",
       "      <th></th>\n",
       "      <th></th>\n",
       "      <th></th>\n",
       "      <th></th>\n",
       "      <th></th>\n",
       "      <th></th>\n",
       "    </tr>\n",
       "  </thead>\n",
       "  <tbody>\n",
       "    <tr>\n",
       "      <th>20001218X45444</th>\n",
       "      <td>Accident</td>\n",
       "      <td>SEA87LA080</td>\n",
       "      <td>1948</td>\n",
       "      <td>MOOSE CREEK, ID</td>\n",
       "      <td>United States</td>\n",
       "      <td>NaN</td>\n",
       "      <td>NaN</td>\n",
       "      <td>NaN</td>\n",
       "      <td>NaN</td>\n",
       "      <td>Fatal(2)</td>\n",
       "      <td>...</td>\n",
       "      <td>NaN</td>\n",
       "      <td>Personal</td>\n",
       "      <td>2.0</td>\n",
       "      <td>0.0</td>\n",
       "      <td>0.0</td>\n",
       "      <td>0.0</td>\n",
       "      <td>UNK</td>\n",
       "      <td>Cruise</td>\n",
       "      <td>Probable Cause</td>\n",
       "      <td>NaN</td>\n",
       "    </tr>\n",
       "    <tr>\n",
       "      <th>20001218X45447</th>\n",
       "      <td>Accident</td>\n",
       "      <td>LAX94LA336</td>\n",
       "      <td>1962</td>\n",
       "      <td>BRIDGEPORT, CA</td>\n",
       "      <td>United States</td>\n",
       "      <td>NaN</td>\n",
       "      <td>NaN</td>\n",
       "      <td>NaN</td>\n",
       "      <td>NaN</td>\n",
       "      <td>Fatal(4)</td>\n",
       "      <td>...</td>\n",
       "      <td>NaN</td>\n",
       "      <td>Personal</td>\n",
       "      <td>4.0</td>\n",
       "      <td>0.0</td>\n",
       "      <td>0.0</td>\n",
       "      <td>0.0</td>\n",
       "      <td>UNK</td>\n",
       "      <td>Unknown</td>\n",
       "      <td>Probable Cause</td>\n",
       "      <td>19-09-1996</td>\n",
       "    </tr>\n",
       "  </tbody>\n",
       "</table>\n",
       "<p>2 rows × 28 columns</p>\n",
       "</div>"
      ],
      "text/plain": [
       "               Investigation.Type Accident.Number  Event.Date  \\\n",
       "Event.Id                                                        \n",
       "20001218X45444           Accident      SEA87LA080        1948   \n",
       "20001218X45447           Accident      LAX94LA336        1962   \n",
       "\n",
       "                       Location        Country Latitude Longitude  \\\n",
       "Event.Id                                                            \n",
       "20001218X45444  MOOSE CREEK, ID  United States      NaN       NaN   \n",
       "20001218X45447   BRIDGEPORT, CA  United States      NaN       NaN   \n",
       "\n",
       "               Airport.Code Airport.Name Injury.Severity  ... FAR.Description  \\\n",
       "Event.Id                                                  ...                   \n",
       "20001218X45444          NaN          NaN        Fatal(2)  ...             NaN   \n",
       "20001218X45447          NaN          NaN        Fatal(4)  ...             NaN   \n",
       "\n",
       "               Purpose.of.flight Total.Fatal.Injuries Total.Serious.Injuries  \\\n",
       "Event.Id                                                                       \n",
       "20001218X45444          Personal                  2.0                    0.0   \n",
       "20001218X45447          Personal                  4.0                    0.0   \n",
       "\n",
       "               Total.Minor.Injuries Total.Uninjured  Weather.Condition  \\\n",
       "Event.Id                                                                 \n",
       "20001218X45444                  0.0             0.0                UNK   \n",
       "20001218X45447                  0.0             0.0                UNK   \n",
       "\n",
       "               Broad.phase.of.flight   Report.Status Publication.Date  \n",
       "Event.Id                                                               \n",
       "20001218X45444                Cruise  Probable Cause              NaN  \n",
       "20001218X45447               Unknown  Probable Cause       19-09-1996  \n",
       "\n",
       "[2 rows x 28 columns]"
      ]
     },
     "execution_count": 34,
     "metadata": {},
     "output_type": "execute_result"
    }
   ],
   "source": [
    "df.head(2)"
   ]
  },
  {
   "cell_type": "markdown",
   "metadata": {},
   "source": [
    "### **D. Cleaning the Location and Country Data**  \r\n",
    "\r\n",
    "- **I am choosing not to fill in the location**.  \r\n",
    "- **I won't drop the country** because **I believe Tableau can locate the country using the location and coordinates**.  \r\n",
    "- **I stripped white spaces in `Location` and `Country`**.  \r\n",
    "- **I deleted missing values in `Location`**. "
   ]
  },
  {
   "cell_type": "code",
   "execution_count": 35,
   "metadata": {},
   "outputs": [],
   "source": [
    "df[\"Location\"]=df[\"Location\"].str.strip() #removing white spaces"
   ]
  },
  {
   "cell_type": "code",
   "execution_count": 37,
   "metadata": {},
   "outputs": [
    {
     "data": {
      "text/plain": [
       "Location\n",
       "ANCHORAGE, AK         396\n",
       "ALBUQUERQUE, NM       187\n",
       "HOUSTON, TX           168\n",
       "FAIRBANKS, AK         166\n",
       "MIAMI, FL             156\n",
       "                     ... \n",
       "BRADSHAW, NE            1\n",
       "CUERNAVACA, Mexico      1\n",
       "ELWOOD, NE              1\n",
       "PINK HILL, NC           1\n",
       "Brasnorte,              1\n",
       "Name: count, Length: 26890, dtype: int64"
      ]
     },
     "execution_count": 37,
     "metadata": {},
     "output_type": "execute_result"
    }
   ],
   "source": [
    "df[\"Location\"].value_counts() "
   ]
  },
  {
   "cell_type": "code",
   "execution_count": 38,
   "metadata": {},
   "outputs": [
    {
     "data": {
      "text/plain": [
       "40"
      ]
     },
     "execution_count": 38,
     "metadata": {},
     "output_type": "execute_result"
    }
   ],
   "source": [
    "df[\"Location\"].isna().sum()#checking for missing values and dropping them\n"
   ]
  },
  {
   "cell_type": "code",
   "execution_count": 36,
   "metadata": {},
   "outputs": [],
   "source": [
    "df = df.dropna(subset=[\"Location\"])"
   ]
  },
  {
   "cell_type": "code",
   "execution_count": 37,
   "metadata": {},
   "outputs": [],
   "source": [
    "df[\"Location\"]=df[\"Location\"].replace('ANCHORAGE, Ak', 'ANCHORAGE, AK') # combining this two to make one value"
   ]
  },
  {
   "cell_type": "code",
   "execution_count": 38,
   "metadata": {},
   "outputs": [
    {
     "data": {
      "text/plain": [
       "203"
      ]
     },
     "execution_count": 38,
     "metadata": {},
     "output_type": "execute_result"
    }
   ],
   "source": [
    "df[\"Country\"].isna().sum() # codinates in tablue will help fill in the missing values in Tablue, here we are not using this coloumn"
   ]
  },
  {
   "cell_type": "code",
   "execution_count": 39,
   "metadata": {},
   "outputs": [
    {
     "data": {
      "text/plain": [
       "Country\n",
       "United States                       79101\n",
       "Brazil                                330\n",
       "Canada                                308\n",
       "Mexico                                289\n",
       "United Kingdom                        219\n",
       "                                    ...  \n",
       "Saint Vincent and the Grenadines        1\n",
       "BLOCK 651A                              1\n",
       "Ivory Coast                             1\n",
       "Malampa                                 1\n",
       "Great Britain                           1\n",
       "Name: count, Length: 206, dtype: int64"
      ]
     },
     "execution_count": 39,
     "metadata": {},
     "output_type": "execute_result"
    }
   ],
   "source": [
    "df[\"Country\"].value_counts() "
   ]
  },
  {
   "cell_type": "markdown",
   "metadata": {},
   "source": [
    "### **E. Cleaning Make and Model**  \r\n",
    "\r\n",
    "- **Filling in missing data with the most common `Make` and `Model`**.  \r\n",
    "- **Stripping white spaces**.  \r\n",
    "- **Converting values to title case** to **merge inconsistent cases** (e.g., `Cessna` and `CESSNA`).  \r\n"
   ]
  },
  {
   "cell_type": "code",
   "execution_count": 40,
   "metadata": {},
   "outputs": [
    {
     "data": {
      "text/plain": [
       "Make\n",
       "Cessna            21673\n",
       "Piper             11758\n",
       "CESSNA             4813\n",
       "Beech              4131\n",
       "PIPER              2799\n",
       "                  ...  \n",
       "Maule Air Inc.        1\n",
       "Motley Vans           1\n",
       "Perlick               1\n",
       "Knab-douglas          1\n",
       "ROYSE RALPH L         1\n",
       "Name: count, Length: 8136, dtype: int64"
      ]
     },
     "execution_count": 40,
     "metadata": {},
     "output_type": "execute_result"
    }
   ],
   "source": [
    "df['Make'].value_counts() #checking for the most common make to replace the missing makes in the column"
   ]
  },
  {
   "cell_type": "code",
   "execution_count": 41,
   "metadata": {},
   "outputs": [
    {
     "data": {
      "text/plain": [
       "36"
      ]
     },
     "execution_count": 41,
     "metadata": {},
     "output_type": "execute_result"
    }
   ],
   "source": [
    "df['Make'].isna().sum()#checking for missing values"
   ]
  },
  {
   "cell_type": "code",
   "execution_count": 42,
   "metadata": {},
   "outputs": [],
   "source": [
    "df['Make'].fillna('Cessna', inplace=True) # Replacing these missing values in Cessna"
   ]
  },
  {
   "cell_type": "code",
   "execution_count": 43,
   "metadata": {},
   "outputs": [
    {
     "data": {
      "text/plain": [
       "0"
      ]
     },
     "execution_count": 43,
     "metadata": {},
     "output_type": "execute_result"
    }
   ],
   "source": [
    "df['Make'].isna().sum()"
   ]
  },
  {
   "cell_type": "code",
   "execution_count": 44,
   "metadata": {},
   "outputs": [],
   "source": [
    "df['Make']=df['Make'].str.strip().str.title() #removing white spaces and changing the cases to title case."
   ]
  },
  {
   "cell_type": "markdown",
   "metadata": {},
   "source": []
  },
  {
   "cell_type": "code",
   "execution_count": 45,
   "metadata": {},
   "outputs": [
    {
     "data": {
      "text/plain": [
       "60"
      ]
     },
     "execution_count": 45,
     "metadata": {},
     "output_type": "execute_result"
    }
   ],
   "source": [
    "df['Model'].isna().sum() #checking for missing values in model"
   ]
  },
  {
   "cell_type": "code",
   "execution_count": 46,
   "metadata": {},
   "outputs": [
    {
     "data": {
      "text/plain": [
       "Model\n",
       "152            2297\n",
       "172            1733\n",
       "172N           1141\n",
       "PA-28-140       922\n",
       "150             813\n",
       "               ... \n",
       "PA-28R-210T       1\n",
       "B33-35            1\n",
       "B-25J             1\n",
       "AMT-200           1\n",
       "A330-243          1\n",
       "Name: count, Length: 11689, dtype: int64"
      ]
     },
     "execution_count": 46,
     "metadata": {},
     "output_type": "execute_result"
    }
   ],
   "source": [
    "df['Model'].value_counts() #checking for the most common model"
   ]
  },
  {
   "cell_type": "code",
   "execution_count": 47,
   "metadata": {},
   "outputs": [],
   "source": [
    "df['Model'].fillna('152', inplace=True) #replacing the missing values with the most common value"
   ]
  },
  {
   "cell_type": "code",
   "execution_count": 52,
   "metadata": {},
   "outputs": [
    {
     "data": {
      "text/plain": [
       "0"
      ]
     },
     "execution_count": 52,
     "metadata": {},
     "output_type": "execute_result"
    }
   ],
   "source": [
    "df['Model'].isna().sum()"
   ]
  },
  {
   "cell_type": "code",
   "execution_count": 48,
   "metadata": {},
   "outputs": [],
   "source": [
    "df['Model']=df['Model'].str.strip() #removing whitespaces"
   ]
  },
  {
   "cell_type": "markdown",
   "metadata": {},
   "source": [
    "### **F. Filling in the Number of Engines**  \r\n",
    "\r\n",
    "- **Replacing missing values with the most common types of engines**.  \r\n"
   ]
  },
  {
   "cell_type": "code",
   "execution_count": 49,
   "metadata": {},
   "outputs": [
    {
     "data": {
      "text/plain": [
       "4847"
      ]
     },
     "execution_count": 49,
     "metadata": {},
     "output_type": "execute_result"
    }
   ],
   "source": [
    "df['Number.of.Engines'].isna().sum() #Checking for missing values"
   ]
  },
  {
   "cell_type": "code",
   "execution_count": 50,
   "metadata": {},
   "outputs": [
    {
     "data": {
      "text/plain": [
       "Number.of.Engines\n",
       "1.0    68444\n",
       "2.0     9259\n",
       "0.0     1186\n",
       "4.0      215\n",
       "3.0      195\n",
       "8.0        3\n",
       "6.0        1\n",
       "Name: count, dtype: int64"
      ]
     },
     "execution_count": 50,
     "metadata": {},
     "output_type": "execute_result"
    }
   ],
   "source": [
    "df['Number.of.Engines'].value_counts() #checking for the most common number of engines"
   ]
  },
  {
   "cell_type": "code",
   "execution_count": 52,
   "metadata": {},
   "outputs": [],
   "source": [
    "\n",
    "#replacing with the most common number of engines\n",
    "df['Number.of.Engines']=df['Number.of.Engines'].fillna(df['Number.of.Engines'].mode()[0])"
   ]
  },
  {
   "cell_type": "code",
   "execution_count": 53,
   "metadata": {},
   "outputs": [
    {
     "data": {
      "text/plain": [
       "0"
      ]
     },
     "execution_count": 53,
     "metadata": {},
     "output_type": "execute_result"
    }
   ],
   "source": [
    "df['Number.of.Engines'].isna().sum()"
   ]
  },
  {
   "cell_type": "markdown",
   "metadata": {},
   "source": [
    "### **G. Filtering for Fatalities**  \r\n",
    "  \r\n"
   ]
  },
  {
   "cell_type": "code",
   "execution_count": 54,
   "metadata": {},
   "outputs": [
    {
     "data": {
      "text/plain": [
       "Total.Fatal.Injuries\n",
       "0.0      56016\n",
       "1.0       8776\n",
       "2.0       5087\n",
       "3.0       1542\n",
       "4.0       1064\n",
       "         ...  \n",
       "83.0         1\n",
       "143.0        1\n",
       "144.0        1\n",
       "60.0         1\n",
       "176.0        1\n",
       "Name: count, Length: 125, dtype: int64"
      ]
     },
     "execution_count": 54,
     "metadata": {},
     "output_type": "execute_result"
    }
   ],
   "source": [
    "df['Total.Fatal.Injuries'].value_counts() #checking for the most common number of fatalities"
   ]
  },
  {
   "cell_type": "code",
   "execution_count": 55,
   "metadata": {},
   "outputs": [
    {
     "data": {
      "text/plain": [
       "10646"
      ]
     },
     "execution_count": 55,
     "metadata": {},
     "output_type": "execute_result"
    }
   ],
   "source": [
    "df['Total.Fatal.Injuries'].isna().sum() # checking for missing values in this column"
   ]
  },
  {
   "cell_type": "code",
   "execution_count": 56,
   "metadata": {},
   "outputs": [],
   "source": [
    "df['Total.Fatal.Injuries'].fillna(0, inplace=True) #replacing them with the most common number of fatalities"
   ]
  },
  {
   "cell_type": "markdown",
   "metadata": {},
   "source": [
    "### **H. Cleaning `Weather Condition` and `Broad Phase of Flight`**  \r\n",
    "\r\n",
    "- **Replacing missing values with 'Unknown'** since the dataset already includes 'Unknown' as an option.  \r\n"
   ]
  },
  {
   "cell_type": "code",
   "execution_count": 57,
   "metadata": {},
   "outputs": [
    {
     "data": {
      "text/plain": [
       "Weather.Condition\n",
       "VMC    74373\n",
       "IMC     5707\n",
       "UNK      731\n",
       "Unk      215\n",
       "Name: count, dtype: int64"
      ]
     },
     "execution_count": 57,
     "metadata": {},
     "output_type": "execute_result"
    }
   ],
   "source": [
    "df['Weather.Condition'].value_counts() # UNK and Unk is the same thing and they both stand for unknown"
   ]
  },
  {
   "cell_type": "code",
   "execution_count": 58,
   "metadata": {},
   "outputs": [
    {
     "data": {
      "text/plain": [
       "3124"
      ]
     },
     "execution_count": 58,
     "metadata": {},
     "output_type": "execute_result"
    }
   ],
   "source": [
    "df['Weather.Condition'].isna().sum() # checking for missing data, they are unknown weather conditions"
   ]
  },
  {
   "cell_type": "code",
   "execution_count": 59,
   "metadata": {},
   "outputs": [],
   "source": [
    "#Replacing UNK, Unk, and missing data with Unknown\n",
    "df['Weather.Condition'] = df['Weather.Condition'].replace({'UNK': 'Unknown', 'Unk': 'Unknown'})\n",
    "df['Weather.Condition'].fillna('Unknown', inplace=True)"
   ]
  },
  {
   "cell_type": "code",
   "execution_count": 60,
   "metadata": {},
   "outputs": [
    {
     "data": {
      "text/plain": [
       "0"
      ]
     },
     "execution_count": 60,
     "metadata": {},
     "output_type": "execute_result"
    }
   ],
   "source": [
    "df['Weather.Condition'].isna().sum()"
   ]
  },
  {
   "cell_type": "code",
   "execution_count": 61,
   "metadata": {},
   "outputs": [
    {
     "data": {
      "text/plain": [
       "Broad.phase.of.flight\n",
       "Landing        14971\n",
       "Takeoff        12071\n",
       "Cruise          9788\n",
       "Maneuvering     8016\n",
       "Approach        6202\n",
       "Climb           1816\n",
       "Descent         1768\n",
       "Taxi            1625\n",
       "Go-around       1330\n",
       "Standing         786\n",
       "Unknown          530\n",
       "Other            108\n",
       "Name: count, dtype: int64"
      ]
     },
     "execution_count": 61,
     "metadata": {},
     "output_type": "execute_result"
    }
   ],
   "source": [
    "df['Broad.phase.of.flight'].value_counts() "
   ]
  },
  {
   "cell_type": "code",
   "execution_count": 62,
   "metadata": {},
   "outputs": [
    {
     "data": {
      "text/plain": [
       "25139"
      ]
     },
     "execution_count": 62,
     "metadata": {},
     "output_type": "execute_result"
    }
   ],
   "source": [
    "df['Broad.phase.of.flight'].isna().sum() #checking for missing values"
   ]
  },
  {
   "cell_type": "code",
   "execution_count": 63,
   "metadata": {},
   "outputs": [],
   "source": [
    "df[\"Broad.phase.of.flight\"] = df[\"Broad.phase.of.flight\"].str.strip() #removing white space\n",
    "df[\"Broad.phase.of.flight\"].fillna(\"Unknown\", inplace=True) #replacing missing values with unknown"
   ]
  },
  {
   "cell_type": "code",
   "execution_count": 70,
   "metadata": {},
   "outputs": [
    {
     "data": {
      "text/plain": [
       "0"
      ]
     },
     "execution_count": 70,
     "metadata": {},
     "output_type": "execute_result"
    }
   ],
   "source": [
    "df['Broad.phase.of.flight'].isna().sum() "
   ]
  },
  {
   "cell_type": "code",
   "execution_count": 64,
   "metadata": {},
   "outputs": [
    {
     "data": {
      "text/plain": [
       "(84150, 28)"
      ]
     },
     "execution_count": 64,
     "metadata": {},
     "output_type": "execute_result"
    }
   ],
   "source": [
    "df.shape #checking for the remaining rows"
   ]
  },
  {
   "cell_type": "markdown",
   "metadata": {},
   "source": [
    "## 2. Data vizualization ##"
   ]
  },
  {
   "cell_type": "markdown",
   "metadata": {},
   "source": [
    "### **1. Checking for Factors That Contribute to Accidents**  \r\n",
    "\r\n",
    "We will analyze four variables:  \r\n",
    "- **Weather**  \r\n",
    "- **Broad Phase of Flight**  \r\n",
    "- **Number of Engines**  \r\n",
    "- **Combined Make and Model**  \r\n",
    "\r\n",
    "#### **Findings*  \r\n",
    "- **Top three aircraft with the highest accidencounts:**  \r\n",
    "  - **Cessna** (26,522 accidents)  \r\n",
    "  - **Piper** (14,557 accide  s)  \r",
    " - **Beech** (5,138 accents)  \r\n",
    "- **The Cessna 152 is the model with the mt accints**.  \r\n",
    "- **Aircraft with one engine have a higher chance of getting inan accident** compared to multi-engine rcraft.  \r\n",
    "- **Accidents are more likely to occur during landing, takeof and cising**.  \r\n",
    "- **Weather does not significantly contribute taccidt rates**, as **most accidents occur under favorable weher conditions** where pilots can make decisions.  \r\n"
   ]
  },
  {
   "cell_type": "code",
   "execution_count": 65,
   "metadata": {},
   "outputs": [
    {
     "data": {
      "text/plain": [
       "Text(0, 0.5, 'Num of Accidents')"
      ]
     },
     "execution_count": 65,
     "metadata": {},
     "output_type": "execute_result"
    },
    {
     "data": {
      "image/png": "[encoded data removed]",
      "text/plain": [
       "<Figure size 640x480 with 1 Axes>"
      ]
     },
     "metadata": {},
     "output_type": "display_data"
    }
   ],
   "source": [
    "#checking if weather contributes to the accident rates\n",
    "weather_counts = df['Weather.Condition'].value_counts()\n",
    "weather_counts.plot.bar(color='blue')\n",
    "plt.title(\"Accidents under Different Weather Conditions\")\n",
    "plt.xlabel(\"Weather Condition\")\n",
    "plt.ylabel(\"Num of Accidents\")"
   ]
  },
  {
   "cell_type": "markdown",
   "metadata": {},
   "source": [
    "Over 80% of accidents occur in  ****VMC (Visual Meteorological Conditions), where pilots y can navigate using visual references rather than relying on instruments- **IMC (Instrument Meteorological Conditionss to weather conditihat require pilots to operate under **Instrument Flight Rules (IFR)**, meaning they must rely on their aircraft’s instruments for navigation due to poor visibility caused by fog, clouds, heavy rain, or other obstructions."
   ]
  },
  {
   "cell_type": "code",
   "execution_count": 73,
   "metadata": {},
   "outputs": [
    {
     "data": {
      "text/plain": [
       "Text(0, 0.5, 'Num of Accidents')"
      ]
     },
     "execution_count": 73,
     "metadata": {},
     "output_type": "execute_result"
    },
    {
     "data": {
      "image/png": "[encoded data removed]",
      "text/plain": [
       "<Figure size 1000x600 with 1 Axes>"
      ]
     },
     "metadata": {},
     "output_type": "display_data"
    }
   ],
   "source": [
    "phase_counts = df['Broad.phase.of.flight'].value_counts()\n",
    "plt.figure(figsize=(10,6))\n",
    "phase_counts.plot.bar()\n",
    "plt.title(\"Accidents vs Broad Phase of Flight\")\n",
    "plt.xlabel(\"Broad Phase of Flight\")\n",
    "plt.ylabel(\"Num of Accidents\")"
   ]
  },
  {
   "cell_type": "markdown",
   "metadata": {},
   "source": [
    "Althrough we dont know which broad phrase most accidents occur, accidents are more likely to occur during landing, takeoff, and cruising. "
   ]
  },
  {
   "cell_type": "code",
   "execution_count": 66,
   "metadata": {},
   "outputs": [],
   "source": [
    "# combine make and model and produce the top ten make and model\n",
    "\n",
    "df['Make-Model'] = df['Make'] + ' ' + df['Model']\n",
    "top_10_make_model_counts = df['Make-Model'].value_counts().head(10) "
   ]
  },
  {
   "cell_type": "code",
   "execution_count": 67,
   "metadata": {},
   "outputs": [
    {
     "data": {
      "text/plain": [
       "Text(0, 0.5, 'Num of Accidents')"
      ]
     },
     "execution_count": 67,
     "metadata": {},
     "output_type": "execute_result"
    },
    {
     "data": {
      "image/png": "[encoded data removed]",
      "text/plain": [
       "<Figure size 600x400 with 1 Axes>"
      ]
     },
     "metadata": {},
     "output_type": "display_data"
    }
   ],
   "source": [
    " # show a bar graph of make-model vs number of accidents.\n",
    "\n",
    "plt.figure(figsize=(6,4))\n",
    "top_10_make_model_counts .plot.bar()\n",
    "plt.title(\"Number of Accidents by Aircraft Make and Model\")\n",
    "plt.xlabel(\"Aircraft Make-Model\")\n",
    "plt.ylabel(\"Num of Accidents\")\n",
    "\n",
    "\n"
   ]
  },
  {
   "cell_type": "code",
   "execution_count": 75,
   "metadata": {},
   "outputs": [
    {
     "data": {
      "text/plain": [
       "Text(0, 0.5, 'Number of Accidents')"
      ]
     },
     "execution_count": 75,
     "metadata": {},
     "output_type": "execute_result"
    },
    {
     "data": {
      "image/png": "[encoded data removed]",
      "text/plain": [
       "<Figure size 1000x600 with 1 Axes>"
      ]
     },
     "metadata": {},
     "output_type": "display_data"
    }
   ],
   "source": [
    "# bar graph of the number of engines vs accident counts\n",
    "engine_counts = df['Number.of.Engines'].value_counts()\n",
    "plt.figure(figsize=(10,6))\n",
    "engine_counts.plot.bar()\n",
    "plt.title(\"Accidents by Number of Engines\")\n",
    "plt.xlabel(\"Number of Engines\")\n",
    "plt.ylabel(\"Number of Accidents\")"
   ]
  },
  {
   "cell_type": "markdown",
   "metadata": {},
   "source": [
    "If an aircraft has one engine it is most likely to have an accident"
   ]
  },
  {
   "cell_type": "markdown",
   "metadata": {},
   "source": [
    "### **2. Geographical Hotspots**  \r\n",
    "\r\n",
    "We will **combine `Location` and `Country`**, then generate the **top 20 locations** to identify geographical hotspots.  \r\n",
    "\r\n",
    "#### Findings:  \r\n",
    "- The **United States** has the highest accident count, with over **79,000 accidents in 61 years**.  \r\n",
    "- Brazil has the second highest accident count, but the U.S. has **over 200 times more accidents**.  \r\n",
    "- In the U.S., the locations with the highest accident counts are:  \r\n",
    "  - **Anchorage**  \r\n",
    "  - **Albuquerque**  \r\n",
    "  - **Houston**  \r\n"
   ]
  },
  {
   "cell_type": "code",
   "execution_count": 69,
   "metadata": {},
   "outputs": [
    {
     "data": {
      "text/plain": [
       "Country\n",
       "United States                       79101\n",
       "Brazil                                330\n",
       "Canada                                308\n",
       "Mexico                                289\n",
       "United Kingdom                        219\n",
       "                                    ...  \n",
       "Saint Vincent and the Grenadines        1\n",
       "BLOCK 651A                              1\n",
       "Ivory Coast                             1\n",
       "Malampa                                 1\n",
       "Great Britain                           1\n",
       "Name: count, Length: 206, dtype: int64"
      ]
     },
     "execution_count": 69,
     "metadata": {},
     "output_type": "execute_result"
    }
   ],
   "source": [
    "df['Country'].value_counts()"
   ]
  },
  {
   "cell_type": "code",
   "execution_count": 71,
   "metadata": {},
   "outputs": [],
   "source": [
    "#combine location and country and sort them by accident count, accident count will be the index. Then slice the list to the top 20 locations\n",
    "accident_counts = df.groupby(['Country', 'Location']).size().reset_index(name='Accident_Count')\n",
    "accident_counts = accident_counts.sort_values(by='Accident_Count', ascending=False)\n",
    "top_20 = accident_counts.head(20).copy()  "
   ]
  },
  {
   "cell_type": "code",
   "execution_count": 72,
   "metadata": {},
   "outputs": [
    {
     "data": {
      "text/plain": [
       "Text(0.5, 1.0, '20 Locations with the Highest Number of Aviation Accidents')"
      ]
     },
     "execution_count": 72,
     "metadata": {},
     "output_type": "execute_result"
    },
    {
     "data": {
      "image/png": "[encoded data removed]",
      "text/plain": [
       "<Figure size 400x400 with 1 Axes>"
      ]
     },
     "metadata": {},
     "output_type": "display_data"
    }
   ],
   "source": [
    "\n",
    "#plot the barchart\n",
    "top_20.loc[:, 'Country_Location'] = top_20['Country'] + ' - ' + top_20['Location']\n",
    "\n",
    "plt.figure(figsize=(4, 4))\n",
    "sns.barplot(data=top_20, y='Country_Location', x ='Accident_Count', color='blue')\n",
    "plt.xlabel(\"Country - Location\")\n",
    "plt.ylabel(\"Num of Accidents\")\n",
    "plt.title(\"20 Locations with the Highest Number of Aviation Accidents\")"
   ]
  },
  {
   "cell_type": "markdown",
   "metadata": {},
   "source": [
    "### **3. Patterns of Fatalities and Accidents Over Time**  \n",
    "\n",
    "We will plot a **line graph** to investigate this objective on a single graph.  \n",
    "\n",
    "#### Findings:  \n",
    "- The **blue line** represents accident counts, which show a **declining trend over time**.  \n",
    "- The **orange line** represents fatalities, which **fluctuated significantly from 1980 to 2000**, despite a decline in accidents. This indicates that some crashes during this period were highly severe.  \n",
    "- After **2000, fatalities showed a decreasing trend**, suggesting improvements in **aviation safety and emergency response**.  \n"
   ]
  },
  {
   "cell_type": "code",
   "execution_count": 98,
   "metadata": {},
   "outputs": [
    {
     "data": {
      "text/plain": [
       "Text(0.5, 1.0, 'Aviation Accidents and Fatalities Over Time')"
      ]
     },
     "execution_count": 98,
     "metadata": {},
     "output_type": "execute_result"
    },
    {
     "data": {
      "image/png": "[encoded data removed]",
      "text/plain": [
       "<Figure size 800x600 with 1 Axes>"
      ]
     },
     "metadata": {},
     "output_type": "display_data"
    }
   ],
   "source": [
    "accident_trend = df.groupby('Event.Date').size().reset_index(name='Accident_Count')\n",
    "\n",
    "\n",
    "fatality_trend = df.groupby('Event.Date')['Total.Fatal.Injuries'].sum().reset_index()\n",
    "\n",
    "trend_data = accident_trend.merge(fatality_trend, on='Event.Date')\n",
    "\n",
    "plt.figure(figsize=(8, 6))\n",
    "plt.plot(trend_data['Event.Date'], trend_data['Accident_Count'], color = 'blue')\n",
    "plt.plot(trend_data['Event.Date'], trend_data['Total.Fatal.Injuries'] , color ='orange')\n",
    "\n",
    "plt.xlabel(\"Year\")\n",
    "plt.ylabel(\"Count\")\n",
    "plt.title(\"Aviation Accidents and Fatalities Over Time\")"
   ]
  },
  {
   "cell_type": "code",
   "execution_count": 89,
   "metadata": {},
   "outputs": [
    {
     "data": {
      "text/plain": [
       "Country\n",
       "United States                       79101\n",
       "Brazil                                330\n",
       "Canada                                308\n",
       "Mexico                                289\n",
       "United Kingdom                        219\n",
       "                                    ...  \n",
       "Saint Vincent and the Grenadines        1\n",
       "BLOCK 651A                              1\n",
       "Ivory Coast                             1\n",
       "Malampa                                 1\n",
       "Great Britain                           1\n",
       "Name: count, Length: 206, dtype: int64"
      ]
     },
     "execution_count": 89,
     "metadata": {},
     "output_type": "execute_result"
    }
   ],
   "source": [
    "df['Country'].value_counts()"
   ]
  },
  {
   "cell_type": "code",
   "execution_count": 118,
   "metadata": {},
   "outputs": [],
   "source": [
    "df.to_csv(\"NewName.csv\", index=False)"
   ]
  },
  {
   "cell_type": "markdown",
   "metadata": {},
   "source": [
    "### ** 3. Conclusion**  \n",
    "\n",
    "#### **Factors Contributing to Accidents:**  \n",
    "- **Aircraft make and model** are key mechanical factors contributing to accidents.  \n",
    "- **Cessnas**, particularly **Cessna 152**, are more likely to be involved in accidents.  \n",
    "- **Aircraft with one engine** have an **over 80% chance** of being in an accident.  \n",
    "- While the specific phase when most accidents occur is **unclear**, a **significant number happen during landing**.  \n",
    "- **Weather is not a major contributing factor**—most accidents occur when conditions are clear enough for pilots to navigate.  \n",
    "\n",
    "#### **Geographical Findings:**  \n",
    "- The **USA** has the highest accident count, especially in **Anchorage, Albuquerque, and Houston**.  \n",
    "- This could be due to **high air traffic volume, diverse weather conditions, and major aviation hubs** in these areas.  \n",
    "- **Stricter regulations and improved safety measures** could help reduce risks in high-incident regions.  \n",
    "\n",
    "#### **Trends Over Time:**  \n",
    "- **Accidents and fatalities have been decreasing over time**.  \n",
    "- **Fatalities fluctuated significantly from 1980 to 2000**, despite a decline in accidents, indicating that some crashes were highly severe.  \n",
    "- After **2000, fatalities showed a declining trend**, reflecting **advancements in aviation safety and emergency response**.  \n",
    "- **Accidents peaked around 1980** but have shown a steady decline, suggesting **improvements in aviation safety and regulations**.  \n",
    "- Despite occasional fluctuations, the **overall trend indicates a reduction in aviation incidents**.  \n"
   ]
  },
  {
   "cell_type": "code",
   "execution_count": null,
   "metadata": {},
   "outputs": [],
   "source": []
  }
 ],
 "metadata": {
  "kernelspec": {
   "display_name": "Python 3 (ipykernel)",
   "language": "python",
   "name": "python3"
  },
  "language_info": {
   "codemirror_mode": {
    "name": "ipython",
    "version": 3
   },
   "file_extension": ".py",
   "mimetype": "text/x-python",
   "name": "python",
   "nbconvert_exporter": "python",
   "pygments_lexer": "ipython3",
   "version": "3.11.7"
  }
 },
 "nbformat": 4,
 "nbformat_minor": 4
}
